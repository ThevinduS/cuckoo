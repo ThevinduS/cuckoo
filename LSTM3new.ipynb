{
 "cells": [
  {
   "cell_type": "markdown",
   "metadata": {
    "id": "1Vl1VSxL8LKs"
   },
   "source": [
    "Importing liabraries"
   ]
  },
  {
   "cell_type": "markdown",
   "metadata": {
    "id": "CvN4kiu4aoEX"
   },
   "source": []
  },
  {
   "cell_type": "code",
   "execution_count": 1,
   "metadata": {
    "colab": {
     "base_uri": "https://localhost:8080/"
    },
    "id": "c7uD-e0Qwv8n",
    "outputId": "9e415458-a095-44a2-b2cc-f3a48940306e"
   },
   "outputs": [
    {
     "name": "stdout",
     "output_type": "stream",
     "text": [
      "Requirement already satisfied: keras in d:\\anaconda\\lib\\site-packages (2.12.0)\n",
      "Requirement already satisfied: tensorflow in d:\\anaconda\\lib\\site-packages (2.12.0)\n",
      "Requirement already satisfied: tensorflow-intel==2.12.0 in d:\\anaconda\\lib\\site-packages (from tensorflow) (2.12.0)\n",
      "Requirement already satisfied: six>=1.12.0 in d:\\anaconda\\lib\\site-packages (from tensorflow-intel==2.12.0->tensorflow) (1.16.0)\n",
      "Requirement already satisfied: wrapt<1.15,>=1.11.0 in d:\\anaconda\\lib\\site-packages (from tensorflow-intel==2.12.0->tensorflow) (1.14.1)\n",
      "Requirement already satisfied: absl-py>=1.0.0 in d:\\anaconda\\lib\\site-packages (from tensorflow-intel==2.12.0->tensorflow) (1.4.0)\n",
      "Requirement already satisfied: packaging in d:\\anaconda\\lib\\site-packages (from tensorflow-intel==2.12.0->tensorflow) (22.0)\n",
      "Requirement already satisfied: google-pasta>=0.1.1 in d:\\anaconda\\lib\\site-packages (from tensorflow-intel==2.12.0->tensorflow) (0.2.0)\n",
      "Requirement already satisfied: astunparse>=1.6.0 in d:\\anaconda\\lib\\site-packages (from tensorflow-intel==2.12.0->tensorflow) (1.6.3)\n",
      "Requirement already satisfied: tensorflow-io-gcs-filesystem>=0.23.1 in d:\\anaconda\\lib\\site-packages (from tensorflow-intel==2.12.0->tensorflow) (0.31.0)\n",
      "Requirement already satisfied: gast<=0.4.0,>=0.2.1 in d:\\anaconda\\lib\\site-packages (from tensorflow-intel==2.12.0->tensorflow) (0.4.0)\n",
      "Requirement already satisfied: h5py>=2.9.0 in d:\\anaconda\\lib\\site-packages (from tensorflow-intel==2.12.0->tensorflow) (3.7.0)\n",
      "Requirement already satisfied: libclang>=13.0.0 in d:\\anaconda\\lib\\site-packages (from tensorflow-intel==2.12.0->tensorflow) (16.0.0)\n",
      "Requirement already satisfied: jax>=0.3.15 in d:\\anaconda\\lib\\site-packages (from tensorflow-intel==2.12.0->tensorflow) (0.4.13)\n",
      "Requirement already satisfied: flatbuffers>=2.0 in d:\\anaconda\\lib\\site-packages (from tensorflow-intel==2.12.0->tensorflow) (23.5.26)\n",
      "Requirement already satisfied: protobuf!=4.21.0,!=4.21.1,!=4.21.2,!=4.21.3,!=4.21.4,!=4.21.5,<5.0.0dev,>=3.20.3 in d:\\anaconda\\lib\\site-packages (from tensorflow-intel==2.12.0->tensorflow) (4.23.3)\n",
      "Requirement already satisfied: tensorflow-estimator<2.13,>=2.12.0 in d:\\anaconda\\lib\\site-packages (from tensorflow-intel==2.12.0->tensorflow) (2.12.0)\n",
      "Requirement already satisfied: numpy<1.24,>=1.22 in d:\\anaconda\\lib\\site-packages (from tensorflow-intel==2.12.0->tensorflow) (1.23.5)\n",
      "Requirement already satisfied: typing-extensions>=3.6.6 in d:\\anaconda\\lib\\site-packages (from tensorflow-intel==2.12.0->tensorflow) (4.4.0)\n",
      "Requirement already satisfied: tensorboard<2.13,>=2.12 in d:\\anaconda\\lib\\site-packages (from tensorflow-intel==2.12.0->tensorflow) (2.12.3)\n",
      "Requirement already satisfied: setuptools in d:\\anaconda\\lib\\site-packages (from tensorflow-intel==2.12.0->tensorflow) (65.6.3)\n",
      "Requirement already satisfied: keras<2.13,>=2.12.0 in d:\\anaconda\\lib\\site-packages (from tensorflow-intel==2.12.0->tensorflow) (2.12.0)\n",
      "Requirement already satisfied: opt-einsum>=2.3.2 in d:\\anaconda\\lib\\site-packages (from tensorflow-intel==2.12.0->tensorflow) (3.3.0)\n",
      "Requirement already satisfied: grpcio<2.0,>=1.24.3 in d:\\anaconda\\lib\\site-packages (from tensorflow-intel==2.12.0->tensorflow) (1.56.0)\n",
      "Requirement already satisfied: termcolor>=1.1.0 in d:\\anaconda\\lib\\site-packages (from tensorflow-intel==2.12.0->tensorflow) (2.3.0)\n",
      "Requirement already satisfied: wheel<1.0,>=0.23.0 in d:\\anaconda\\lib\\site-packages (from astunparse>=1.6.0->tensorflow-intel==2.12.0->tensorflow) (0.38.4)\n",
      "Requirement already satisfied: scipy>=1.7 in d:\\anaconda\\lib\\site-packages (from jax>=0.3.15->tensorflow-intel==2.12.0->tensorflow) (1.10.0)\n",
      "Requirement already satisfied: ml-dtypes>=0.1.0 in d:\\anaconda\\lib\\site-packages (from jax>=0.3.15->tensorflow-intel==2.12.0->tensorflow) (0.2.0)\n",
      "Requirement already satisfied: google-auth<3,>=1.6.3 in d:\\anaconda\\lib\\site-packages (from tensorboard<2.13,>=2.12->tensorflow-intel==2.12.0->tensorflow) (2.21.0)\n",
      "Requirement already satisfied: requests<3,>=2.21.0 in d:\\anaconda\\lib\\site-packages (from tensorboard<2.13,>=2.12->tensorflow-intel==2.12.0->tensorflow) (2.28.1)\n",
      "Requirement already satisfied: tensorboard-data-server<0.8.0,>=0.7.0 in d:\\anaconda\\lib\\site-packages (from tensorboard<2.13,>=2.12->tensorflow-intel==2.12.0->tensorflow) (0.7.1)\n",
      "Requirement already satisfied: markdown>=2.6.8 in d:\\anaconda\\lib\\site-packages (from tensorboard<2.13,>=2.12->tensorflow-intel==2.12.0->tensorflow) (3.4.1)\n",
      "Requirement already satisfied: google-auth-oauthlib<1.1,>=0.5 in d:\\anaconda\\lib\\site-packages (from tensorboard<2.13,>=2.12->tensorflow-intel==2.12.0->tensorflow) (1.0.0)\n",
      "Requirement already satisfied: werkzeug>=1.0.1 in d:\\anaconda\\lib\\site-packages (from tensorboard<2.13,>=2.12->tensorflow-intel==2.12.0->tensorflow) (2.2.2)\n",
      "Requirement already satisfied: cachetools<6.0,>=2.0.0 in d:\\anaconda\\lib\\site-packages (from google-auth<3,>=1.6.3->tensorboard<2.13,>=2.12->tensorflow-intel==2.12.0->tensorflow) (5.3.1)\n",
      "Requirement already satisfied: urllib3<2.0 in d:\\anaconda\\lib\\site-packages (from google-auth<3,>=1.6.3->tensorboard<2.13,>=2.12->tensorflow-intel==2.12.0->tensorflow) (1.26.14)\n",
      "Requirement already satisfied: pyasn1-modules>=0.2.1 in d:\\anaconda\\lib\\site-packages (from google-auth<3,>=1.6.3->tensorboard<2.13,>=2.12->tensorflow-intel==2.12.0->tensorflow) (0.2.8)\n",
      "Requirement already satisfied: rsa<5,>=3.1.4 in d:\\anaconda\\lib\\site-packages (from google-auth<3,>=1.6.3->tensorboard<2.13,>=2.12->tensorflow-intel==2.12.0->tensorflow) (4.9)\n",
      "Requirement already satisfied: requests-oauthlib>=0.7.0 in d:\\anaconda\\lib\\site-packages (from google-auth-oauthlib<1.1,>=0.5->tensorboard<2.13,>=2.12->tensorflow-intel==2.12.0->tensorflow) (1.3.1)\n",
      "Requirement already satisfied: idna<4,>=2.5 in d:\\anaconda\\lib\\site-packages (from requests<3,>=2.21.0->tensorboard<2.13,>=2.12->tensorflow-intel==2.12.0->tensorflow) (3.4)\n",
      "Requirement already satisfied: certifi>=2017.4.17 in d:\\anaconda\\lib\\site-packages (from requests<3,>=2.21.0->tensorboard<2.13,>=2.12->tensorflow-intel==2.12.0->tensorflow) (2023.5.7)\n",
      "Requirement already satisfied: charset-normalizer<3,>=2 in d:\\anaconda\\lib\\site-packages (from requests<3,>=2.21.0->tensorboard<2.13,>=2.12->tensorflow-intel==2.12.0->tensorflow) (2.0.4)\n",
      "Requirement already satisfied: MarkupSafe>=2.1.1 in d:\\anaconda\\lib\\site-packages (from werkzeug>=1.0.1->tensorboard<2.13,>=2.12->tensorflow-intel==2.12.0->tensorflow) (2.1.1)\n",
      "Requirement already satisfied: pyasn1<0.5.0,>=0.4.6 in d:\\anaconda\\lib\\site-packages (from pyasn1-modules>=0.2.1->google-auth<3,>=1.6.3->tensorboard<2.13,>=2.12->tensorflow-intel==2.12.0->tensorflow) (0.4.8)\n",
      "Requirement already satisfied: oauthlib>=3.0.0 in d:\\anaconda\\lib\\site-packages (from requests-oauthlib>=0.7.0->google-auth-oauthlib<1.1,>=0.5->tensorboard<2.13,>=2.12->tensorflow-intel==2.12.0->tensorflow) (3.2.2)\n",
      "Requirement already satisfied: pandas in d:\\anaconda\\lib\\site-packages (1.5.3)\n",
      "Requirement already satisfied: pytz>=2020.1 in d:\\anaconda\\lib\\site-packages (from pandas) (2022.7)\n",
      "Requirement already satisfied: python-dateutil>=2.8.1 in d:\\anaconda\\lib\\site-packages (from pandas) (2.8.2)\n",
      "Requirement already satisfied: numpy>=1.21.0 in d:\\anaconda\\lib\\site-packages (from pandas) (1.23.5)\n",
      "Requirement already satisfied: six>=1.5 in d:\\anaconda\\lib\\site-packages (from python-dateutil>=2.8.1->pandas) (1.16.0)\n",
      "Requirement already satisfied: tensorflow in d:\\anaconda\\lib\\site-packages (2.12.0)\n",
      "Requirement already satisfied: tensorflow-intel==2.12.0 in d:\\anaconda\\lib\\site-packages (from tensorflow) (2.12.0)\n",
      "Requirement already satisfied: tensorboard<2.13,>=2.12 in d:\\anaconda\\lib\\site-packages (from tensorflow-intel==2.12.0->tensorflow) (2.12.3)\n",
      "Requirement already satisfied: absl-py>=1.0.0 in d:\\anaconda\\lib\\site-packages (from tensorflow-intel==2.12.0->tensorflow) (1.4.0)\n",
      "Requirement already satisfied: google-pasta>=0.1.1 in d:\\anaconda\\lib\\site-packages (from tensorflow-intel==2.12.0->tensorflow) (0.2.0)\n",
      "Requirement already satisfied: six>=1.12.0 in d:\\anaconda\\lib\\site-packages (from tensorflow-intel==2.12.0->tensorflow) (1.16.0)\n",
      "Requirement already satisfied: libclang>=13.0.0 in d:\\anaconda\\lib\\site-packages (from tensorflow-intel==2.12.0->tensorflow) (16.0.0)\n",
      "Requirement already satisfied: keras<2.13,>=2.12.0 in d:\\anaconda\\lib\\site-packages (from tensorflow-intel==2.12.0->tensorflow) (2.12.0)\n",
      "Requirement already satisfied: setuptools in d:\\anaconda\\lib\\site-packages (from tensorflow-intel==2.12.0->tensorflow) (65.6.3)\n",
      "Requirement already satisfied: opt-einsum>=2.3.2 in d:\\anaconda\\lib\\site-packages (from tensorflow-intel==2.12.0->tensorflow) (3.3.0)\n",
      "Requirement already satisfied: wrapt<1.15,>=1.11.0 in d:\\anaconda\\lib\\site-packages (from tensorflow-intel==2.12.0->tensorflow) (1.14.1)\n",
      "Requirement already satisfied: astunparse>=1.6.0 in d:\\anaconda\\lib\\site-packages (from tensorflow-intel==2.12.0->tensorflow) (1.6.3)\n",
      "Requirement already satisfied: h5py>=2.9.0 in d:\\anaconda\\lib\\site-packages (from tensorflow-intel==2.12.0->tensorflow) (3.7.0)\n",
      "Requirement already satisfied: protobuf!=4.21.0,!=4.21.1,!=4.21.2,!=4.21.3,!=4.21.4,!=4.21.5,<5.0.0dev,>=3.20.3 in d:\\anaconda\\lib\\site-packages (from tensorflow-intel==2.12.0->tensorflow) (4.23.3)\n",
      "Requirement already satisfied: tensorflow-io-gcs-filesystem>=0.23.1 in d:\\anaconda\\lib\\site-packages (from tensorflow-intel==2.12.0->tensorflow) (0.31.0)\n",
      "Requirement already satisfied: numpy<1.24,>=1.22 in d:\\anaconda\\lib\\site-packages (from tensorflow-intel==2.12.0->tensorflow) (1.23.5)\n",
      "Requirement already satisfied: termcolor>=1.1.0 in d:\\anaconda\\lib\\site-packages (from tensorflow-intel==2.12.0->tensorflow) (2.3.0)\n",
      "Requirement already satisfied: jax>=0.3.15 in d:\\anaconda\\lib\\site-packages (from tensorflow-intel==2.12.0->tensorflow) (0.4.13)\n",
      "Requirement already satisfied: packaging in d:\\anaconda\\lib\\site-packages (from tensorflow-intel==2.12.0->tensorflow) (22.0)\n",
      "Requirement already satisfied: tensorflow-estimator<2.13,>=2.12.0 in d:\\anaconda\\lib\\site-packages (from tensorflow-intel==2.12.0->tensorflow) (2.12.0)\n",
      "Requirement already satisfied: flatbuffers>=2.0 in d:\\anaconda\\lib\\site-packages (from tensorflow-intel==2.12.0->tensorflow) (23.5.26)\n",
      "Requirement already satisfied: gast<=0.4.0,>=0.2.1 in d:\\anaconda\\lib\\site-packages (from tensorflow-intel==2.12.0->tensorflow) (0.4.0)\n",
      "Requirement already satisfied: grpcio<2.0,>=1.24.3 in d:\\anaconda\\lib\\site-packages (from tensorflow-intel==2.12.0->tensorflow) (1.56.0)\n",
      "Requirement already satisfied: typing-extensions>=3.6.6 in d:\\anaconda\\lib\\site-packages (from tensorflow-intel==2.12.0->tensorflow) (4.4.0)\n",
      "Requirement already satisfied: wheel<1.0,>=0.23.0 in d:\\anaconda\\lib\\site-packages (from astunparse>=1.6.0->tensorflow-intel==2.12.0->tensorflow) (0.38.4)\n",
      "Requirement already satisfied: ml-dtypes>=0.1.0 in d:\\anaconda\\lib\\site-packages (from jax>=0.3.15->tensorflow-intel==2.12.0->tensorflow) (0.2.0)\n",
      "Requirement already satisfied: scipy>=1.7 in d:\\anaconda\\lib\\site-packages (from jax>=0.3.15->tensorflow-intel==2.12.0->tensorflow) (1.10.0)\n",
      "Requirement already satisfied: tensorboard-data-server<0.8.0,>=0.7.0 in d:\\anaconda\\lib\\site-packages (from tensorboard<2.13,>=2.12->tensorflow-intel==2.12.0->tensorflow) (0.7.1)\n",
      "Requirement already satisfied: google-auth<3,>=1.6.3 in d:\\anaconda\\lib\\site-packages (from tensorboard<2.13,>=2.12->tensorflow-intel==2.12.0->tensorflow) (2.21.0)\n",
      "Requirement already satisfied: requests<3,>=2.21.0 in d:\\anaconda\\lib\\site-packages (from tensorboard<2.13,>=2.12->tensorflow-intel==2.12.0->tensorflow) (2.28.1)\n",
      "Requirement already satisfied: markdown>=2.6.8 in d:\\anaconda\\lib\\site-packages (from tensorboard<2.13,>=2.12->tensorflow-intel==2.12.0->tensorflow) (3.4.1)\n",
      "Requirement already satisfied: werkzeug>=1.0.1 in d:\\anaconda\\lib\\site-packages (from tensorboard<2.13,>=2.12->tensorflow-intel==2.12.0->tensorflow) (2.2.2)\n",
      "Requirement already satisfied: google-auth-oauthlib<1.1,>=0.5 in d:\\anaconda\\lib\\site-packages (from tensorboard<2.13,>=2.12->tensorflow-intel==2.12.0->tensorflow) (1.0.0)\n",
      "Requirement already satisfied: rsa<5,>=3.1.4 in d:\\anaconda\\lib\\site-packages (from google-auth<3,>=1.6.3->tensorboard<2.13,>=2.12->tensorflow-intel==2.12.0->tensorflow) (4.9)\n",
      "Requirement already satisfied: urllib3<2.0 in d:\\anaconda\\lib\\site-packages (from google-auth<3,>=1.6.3->tensorboard<2.13,>=2.12->tensorflow-intel==2.12.0->tensorflow) (1.26.14)\n",
      "Requirement already satisfied: cachetools<6.0,>=2.0.0 in d:\\anaconda\\lib\\site-packages (from google-auth<3,>=1.6.3->tensorboard<2.13,>=2.12->tensorflow-intel==2.12.0->tensorflow) (5.3.1)\n",
      "Requirement already satisfied: pyasn1-modules>=0.2.1 in d:\\anaconda\\lib\\site-packages (from google-auth<3,>=1.6.3->tensorboard<2.13,>=2.12->tensorflow-intel==2.12.0->tensorflow) (0.2.8)\n",
      "Requirement already satisfied: requests-oauthlib>=0.7.0 in d:\\anaconda\\lib\\site-packages (from google-auth-oauthlib<1.1,>=0.5->tensorboard<2.13,>=2.12->tensorflow-intel==2.12.0->tensorflow) (1.3.1)\n",
      "Requirement already satisfied: charset-normalizer<3,>=2 in d:\\anaconda\\lib\\site-packages (from requests<3,>=2.21.0->tensorboard<2.13,>=2.12->tensorflow-intel==2.12.0->tensorflow) (2.0.4)\n",
      "Requirement already satisfied: certifi>=2017.4.17 in d:\\anaconda\\lib\\site-packages (from requests<3,>=2.21.0->tensorboard<2.13,>=2.12->tensorflow-intel==2.12.0->tensorflow) (2023.5.7)\n",
      "Requirement already satisfied: idna<4,>=2.5 in d:\\anaconda\\lib\\site-packages (from requests<3,>=2.21.0->tensorboard<2.13,>=2.12->tensorflow-intel==2.12.0->tensorflow) (3.4)\n",
      "Requirement already satisfied: MarkupSafe>=2.1.1 in d:\\anaconda\\lib\\site-packages (from werkzeug>=1.0.1->tensorboard<2.13,>=2.12->tensorflow-intel==2.12.0->tensorflow) (2.1.1)\n",
      "Requirement already satisfied: pyasn1<0.5.0,>=0.4.6 in d:\\anaconda\\lib\\site-packages (from pyasn1-modules>=0.2.1->google-auth<3,>=1.6.3->tensorboard<2.13,>=2.12->tensorflow-intel==2.12.0->tensorflow) (0.4.8)\n",
      "Requirement already satisfied: oauthlib>=3.0.0 in d:\\anaconda\\lib\\site-packages (from requests-oauthlib>=0.7.0->google-auth-oauthlib<1.1,>=0.5->tensorboard<2.13,>=2.12->tensorflow-intel==2.12.0->tensorflow) (3.2.2)\n",
      "Requirement already satisfied: sklearn in d:\\anaconda\\lib\\site-packages (0.0.post5)\n",
      "Requirement already satisfied: matplotlib in d:\\anaconda\\lib\\site-packages (3.7.0)\n",
      "Requirement already satisfied: cycler>=0.10 in d:\\anaconda\\lib\\site-packages (from matplotlib) (0.11.0)\n",
      "Requirement already satisfied: packaging>=20.0 in d:\\anaconda\\lib\\site-packages (from matplotlib) (22.0)\n",
      "Requirement already satisfied: kiwisolver>=1.0.1 in d:\\anaconda\\lib\\site-packages (from matplotlib) (1.4.4)\n",
      "Requirement already satisfied: pyparsing>=2.3.1 in d:\\anaconda\\lib\\site-packages (from matplotlib) (3.0.9)\n",
      "Requirement already satisfied: python-dateutil>=2.7 in d:\\anaconda\\lib\\site-packages (from matplotlib) (2.8.2)\n",
      "Requirement already satisfied: pillow>=6.2.0 in d:\\anaconda\\lib\\site-packages (from matplotlib) (9.4.0)\n",
      "Requirement already satisfied: numpy>=1.20 in d:\\anaconda\\lib\\site-packages (from matplotlib) (1.23.5)\n",
      "Requirement already satisfied: contourpy>=1.0.1 in d:\\anaconda\\lib\\site-packages (from matplotlib) (1.0.5)\n",
      "Requirement already satisfied: fonttools>=4.22.0 in d:\\anaconda\\lib\\site-packages (from matplotlib) (4.25.0)\n",
      "Requirement already satisfied: six>=1.5 in d:\\anaconda\\lib\\site-packages (from python-dateutil>=2.7->matplotlib) (1.16.0)\n",
      "Requirement already satisfied: comet_ml in d:\\anaconda\\lib\\site-packages (3.33.6)\n",
      "Requirement already satisfied: wrapt>=1.11.2 in d:\\anaconda\\lib\\site-packages (from comet_ml) (1.14.1)\n",
      "Requirement already satisfied: semantic-version>=2.8.0 in d:\\anaconda\\lib\\site-packages (from comet_ml) (2.10.0)\n",
      "Requirement already satisfied: requests-toolbelt>=0.8.0 in d:\\anaconda\\lib\\site-packages (from comet_ml) (0.9.1)\n",
      "Requirement already satisfied: websocket-client<1.4.0,>=0.55.0 in d:\\anaconda\\lib\\site-packages (from comet_ml) (0.58.0)\n",
      "Requirement already satisfied: jsonschema!=3.1.0,>=2.6.0 in d:\\anaconda\\lib\\site-packages (from comet_ml) (4.17.3)\n",
      "Requirement already satisfied: psutil>=5.6.3 in d:\\anaconda\\lib\\site-packages (from comet_ml) (5.9.0)\n",
      "Requirement already satisfied: wurlitzer>=1.0.2 in d:\\anaconda\\lib\\site-packages (from comet_ml) (3.0.3)\n",
      "Requirement already satisfied: rich>=13.3.2 in d:\\anaconda\\lib\\site-packages (from comet_ml) (13.4.2)\n",
      "Requirement already satisfied: simplejson in d:\\anaconda\\lib\\site-packages (from comet_ml) (3.19.1)\n",
      "Requirement already satisfied: everett[ini]<3.2.0,>=1.0.1 in d:\\anaconda\\lib\\site-packages (from comet_ml) (3.1.0)\n",
      "Requirement already satisfied: python-box<7.0.0 in d:\\anaconda\\lib\\site-packages (from comet_ml) (6.1.0)\n",
      "Requirement already satisfied: sentry-sdk>=1.1.0 in d:\\anaconda\\lib\\site-packages (from comet_ml) (1.28.1)\n",
      "Requirement already satisfied: six in d:\\anaconda\\lib\\site-packages (from comet_ml) (1.16.0)\n",
      "Requirement already satisfied: dulwich!=0.20.33,>=0.20.6 in d:\\anaconda\\lib\\site-packages (from comet_ml) (0.21.5)\n",
      "Requirement already satisfied: urllib3>=1.21.1 in d:\\anaconda\\lib\\site-packages (from comet_ml) (1.26.14)\n",
      "Requirement already satisfied: requests>=2.18.4 in d:\\anaconda\\lib\\site-packages (from comet_ml) (2.28.1)\n",
      "Requirement already satisfied: configobj in d:\\anaconda\\lib\\site-packages (from everett[ini]<3.2.0,>=1.0.1->comet_ml) (5.0.8)\n",
      "Requirement already satisfied: pyrsistent!=0.17.0,!=0.17.1,!=0.17.2,>=0.14.0 in d:\\anaconda\\lib\\site-packages (from jsonschema!=3.1.0,>=2.6.0->comet_ml) (0.18.0)\n",
      "Requirement already satisfied: attrs>=17.4.0 in d:\\anaconda\\lib\\site-packages (from jsonschema!=3.1.0,>=2.6.0->comet_ml) (22.1.0)\n",
      "Requirement already satisfied: idna<4,>=2.5 in d:\\anaconda\\lib\\site-packages (from requests>=2.18.4->comet_ml) (3.4)\n",
      "Requirement already satisfied: charset-normalizer<3,>=2 in d:\\anaconda\\lib\\site-packages (from requests>=2.18.4->comet_ml) (2.0.4)\n",
      "Requirement already satisfied: certifi>=2017.4.17 in d:\\anaconda\\lib\\site-packages (from requests>=2.18.4->comet_ml) (2023.5.7)\n",
      "Requirement already satisfied: markdown-it-py>=2.2.0 in d:\\anaconda\\lib\\site-packages (from rich>=13.3.2->comet_ml) (3.0.0)\n",
      "Requirement already satisfied: pygments<3.0.0,>=2.13.0 in d:\\anaconda\\lib\\site-packages (from rich>=13.3.2->comet_ml) (2.15.1)\n",
      "Requirement already satisfied: mdurl~=0.1 in d:\\anaconda\\lib\\site-packages (from markdown-it-py>=2.2.0->rich>=13.3.2->comet_ml) (0.1.2)\n"
     ]
    }
   ],
   "source": [
    "!pip install keras\n",
    "!pip install tensorflow\n",
    "#Install related libraries for the course.\n",
    "#This is a common requirement for all other exampels too\n",
    "\n",
    "!pip install pandas\n",
    "!pip install tensorflow\n",
    "!pip install sklearn\n",
    "!pip install matplotlib\n",
    "!pip install comet_ml"
   ]
  },
  {
   "cell_type": "code",
   "execution_count": 1,
   "metadata": {
    "colab": {
     "base_uri": "https://localhost:8080/"
    },
    "id": "09ipHINqxGA6",
    "outputId": "e4193184-8571-4df5-8f23-6ba68bbba982"
   },
   "outputs": [
    {
     "name": "stderr",
     "output_type": "stream",
     "text": [
      "\u001b[1;38;5;214mCOMET WARNING:\u001b[0m As you are running in a Jupyter environment, you will need to call `experiment.end()` when finished to ensure all metrics and code are logged before exiting.\n",
      "\u001b[1;38;5;39mCOMET INFO:\u001b[0m Couldn't find a Git repository in 'C:\\\\Users\\\\DELL\\\\LSTM3' nor in any parent directory. Set `COMET_GIT_DIRECTORY` if your Git Repository is elsewhere.\n",
      "\u001b[1;38;5;39mCOMET INFO:\u001b[0m Experiment is live on comet.com https://www.comet.com/thevindus/dynamic-malware-analysis/9dc5f9c0dbb6470ea4ee286261a4dbac\n",
      "\n"
     ]
    }
   ],
   "source": [
    "# import comet_ml at the top of your file\n",
    "from comet_ml import Experiment\n",
    "\n",
    "# Create an experiment with your api key\n",
    "experiment = Experiment(log_code=True,\n",
    "    api_key=\"KgERfs0s0QEiRrMhOJYwGn5pk\",\n",
    "    project_name=\"dynamic-malware-analysis\",\n",
    "    workspace=\"thevindus\",\n",
    ")"
   ]
  },
  {
   "cell_type": "code",
   "execution_count": 2,
   "metadata": {
    "colab": {
     "base_uri": "https://localhost:8080/"
    },
    "id": "eGeEmvHD8J36",
    "outputId": "049552f2-527b-4972-c611-877a0701d014"
   },
   "outputs": [],
   "source": [
    "%load_ext autoreload"
   ]
  },
  {
   "cell_type": "code",
   "execution_count": 3,
   "metadata": {
    "colab": {
     "base_uri": "https://localhost:8080/"
    },
    "id": "HO8FFj6f8co_",
    "outputId": "04bd225a-0223-4289-e79c-0f30a7e825f0"
   },
   "outputs": [
    {
     "name": "stdout",
     "output_type": "stream",
     "text": [
      "2.12.0\n"
     ]
    }
   ],
   "source": [
    "%autoreload 2\n",
    "#import autoreload\n",
    "#?autoreload\n",
    "\n",
    "\n",
    "import numpy as np\n",
    "import matplotlib.pyplot as plt\n",
    "import pandas as pd\n",
    "\n",
    "import pickle as pickle\n",
    "\n",
    "import random\n",
    "random.seed(42)\n",
    "\n",
    "\n",
    "from sklearn import preprocessing\n",
    "from sklearn.model_selection import train_test_split\n",
    "\n",
    "from sklearn.model_selection import cross_val_score\n",
    "\n",
    "from sklearn.metrics import classification_report\n",
    "import tensorflow as tf\n",
    "from tensorflow.keras.layers import Dense\n",
    "import tensorflow as tf\n",
    "print(tf.__version__)"
   ]
  },
  {
   "cell_type": "markdown",
   "metadata": {
    "id": "yeCbM_4g83g_"
   },
   "source": [
    "Loading Dataset"
   ]
  },
  {
   "cell_type": "code",
   "execution_count": 4,
   "metadata": {
    "id": "oqHKNSmm9A4l"
   },
   "outputs": [],
   "source": [
    "malware_API_data = pd.read_excel(\"malware_API_dataset.xlsx\", header = None, dtype= str)"
   ]
  },
  {
   "cell_type": "code",
   "execution_count": 5,
   "metadata": {
    "id": "vT5k7x3iSgbD"
   },
   "outputs": [],
   "source": [
    "dataset = pd.concat([malware_API_data], ignore_index=True)"
   ]
  },
  {
   "cell_type": "code",
   "execution_count": 6,
   "metadata": {},
   "outputs": [],
   "source": [
    "from sklearn.utils import shuffle\n",
    "dataset = shuffle(dataset)\n"
   ]
  },
  {
   "cell_type": "code",
   "execution_count": 7,
   "metadata": {
    "colab": {
     "base_uri": "https://localhost:8080/",
     "height": 487
    },
    "id": "smHhcvpOU8tS",
    "outputId": "1cddd3c4-4906-450b-de2e-24dafa2b5af9"
   },
   "outputs": [
    {
     "data": {
      "text/html": [
       "<div>\n",
       "<style scoped>\n",
       "    .dataframe tbody tr th:only-of-type {\n",
       "        vertical-align: middle;\n",
       "    }\n",
       "\n",
       "    .dataframe tbody tr th {\n",
       "        vertical-align: top;\n",
       "    }\n",
       "\n",
       "    .dataframe thead th {\n",
       "        text-align: right;\n",
       "    }\n",
       "</style>\n",
       "<table border=\"1\" class=\"dataframe\">\n",
       "  <thead>\n",
       "    <tr style=\"text-align: right;\">\n",
       "      <th></th>\n",
       "      <th>0</th>\n",
       "      <th>1</th>\n",
       "      <th>2</th>\n",
       "      <th>3</th>\n",
       "      <th>4</th>\n",
       "      <th>5</th>\n",
       "      <th>6</th>\n",
       "      <th>7</th>\n",
       "      <th>8</th>\n",
       "      <th>9</th>\n",
       "      <th>...</th>\n",
       "      <th>588</th>\n",
       "      <th>589</th>\n",
       "      <th>590</th>\n",
       "      <th>591</th>\n",
       "      <th>592</th>\n",
       "      <th>593</th>\n",
       "      <th>594</th>\n",
       "      <th>595</th>\n",
       "      <th>596</th>\n",
       "      <th>597</th>\n",
       "    </tr>\n",
       "  </thead>\n",
       "  <tbody>\n",
       "    <tr>\n",
       "      <th>15923</th>\n",
       "      <td>Trojan</td>\n",
       "      <td>Trojan-Spy.Win32.Zbot.lcdm</td>\n",
       "      <td>06eb604bc250d7579fe6c7e7cb5490b44cb078cafe38cd...</td>\n",
       "      <td>CreateEventW</td>\n",
       "      <td>CreateEventA</td>\n",
       "      <td>LoadLibraryExW</td>\n",
       "      <td>LoadLibraryExA</td>\n",
       "      <td>LoadLibraryA</td>\n",
       "      <td>IsDBCSLeadByte</td>\n",
       "      <td>FindResourceExW</td>\n",
       "      <td>...</td>\n",
       "      <td>NaN</td>\n",
       "      <td>NaN</td>\n",
       "      <td>NaN</td>\n",
       "      <td>NaN</td>\n",
       "      <td>NaN</td>\n",
       "      <td>NaN</td>\n",
       "      <td>NaN</td>\n",
       "      <td>NaN</td>\n",
       "      <td>NaN</td>\n",
       "      <td>NaN</td>\n",
       "    </tr>\n",
       "    <tr>\n",
       "      <th>11229</th>\n",
       "      <td>Trojan</td>\n",
       "      <td>Trojan-FakeAV.Win32.Agent.dlw</td>\n",
       "      <td>39de5f0e64e3e25c7fe00750fa4809ad67e53c2c38617b...</td>\n",
       "      <td>IsDebuggerPresent</td>\n",
       "      <td>CreateWaitableTimerW</td>\n",
       "      <td>CreateWaitableTimerA</td>\n",
       "      <td>SearchPathW</td>\n",
       "      <td>CreateFileW</td>\n",
       "      <td>CreateFileMappingW</td>\n",
       "      <td>MapViewOfFileEx</td>\n",
       "      <td>...</td>\n",
       "      <td>NaN</td>\n",
       "      <td>NaN</td>\n",
       "      <td>NaN</td>\n",
       "      <td>NaN</td>\n",
       "      <td>NaN</td>\n",
       "      <td>NaN</td>\n",
       "      <td>NaN</td>\n",
       "      <td>NaN</td>\n",
       "      <td>NaN</td>\n",
       "      <td>NaN</td>\n",
       "    </tr>\n",
       "    <tr>\n",
       "      <th>1953</th>\n",
       "      <td>Trojan</td>\n",
       "      <td>HEUR:Trojan.Win32.Generic</td>\n",
       "      <td>048bcfe716f763bc96a25c181bb8221116284d01a99aa9...</td>\n",
       "      <td>LocalAlloc</td>\n",
       "      <td>CreateSemaphoreW</td>\n",
       "      <td>CreateSemaphoreA</td>\n",
       "      <td>CreateEventA</td>\n",
       "      <td>CreateFileW</td>\n",
       "      <td>DeviceIoControl</td>\n",
       "      <td>DuplicateHandle</td>\n",
       "      <td>...</td>\n",
       "      <td>NaN</td>\n",
       "      <td>NaN</td>\n",
       "      <td>NaN</td>\n",
       "      <td>NaN</td>\n",
       "      <td>NaN</td>\n",
       "      <td>NaN</td>\n",
       "      <td>NaN</td>\n",
       "      <td>NaN</td>\n",
       "      <td>NaN</td>\n",
       "      <td>NaN</td>\n",
       "    </tr>\n",
       "    <tr>\n",
       "      <th>11702</th>\n",
       "      <td>Trojan</td>\n",
       "      <td>Trojan-FakeAV.Win32.Agent.dov</td>\n",
       "      <td>dc32dbfa9c7f0824b6a271538366942f3a3683dd4d16d4...</td>\n",
       "      <td>FindResourceExW</td>\n",
       "      <td>LoadResource</td>\n",
       "      <td>GetProcessWindowStation</td>\n",
       "      <td>GetUserObjectInformationW</td>\n",
       "      <td>lstrcpyW</td>\n",
       "      <td>CharPrevW</td>\n",
       "      <td>lstrcpynW</td>\n",
       "      <td>...</td>\n",
       "      <td>NaN</td>\n",
       "      <td>NaN</td>\n",
       "      <td>NaN</td>\n",
       "      <td>NaN</td>\n",
       "      <td>NaN</td>\n",
       "      <td>NaN</td>\n",
       "      <td>NaN</td>\n",
       "      <td>NaN</td>\n",
       "      <td>NaN</td>\n",
       "      <td>NaN</td>\n",
       "    </tr>\n",
       "    <tr>\n",
       "      <th>7637</th>\n",
       "      <td>Trojan</td>\n",
       "      <td>Packed.Win32.Krap.an</td>\n",
       "      <td>1289464ca076ff070b2076ff114cb792e9e4fe205cebc6...</td>\n",
       "      <td>CreateEventW</td>\n",
       "      <td>CreateSemaphoreW</td>\n",
       "      <td>RegisterClipboardFormatA</td>\n",
       "      <td>GetSystemDirectoryA</td>\n",
       "      <td>GetVersionExW</td>\n",
       "      <td>IsDBCSLeadByte</td>\n",
       "      <td>CompareStringW</td>\n",
       "      <td>...</td>\n",
       "      <td>NaN</td>\n",
       "      <td>NaN</td>\n",
       "      <td>NaN</td>\n",
       "      <td>NaN</td>\n",
       "      <td>NaN</td>\n",
       "      <td>NaN</td>\n",
       "      <td>NaN</td>\n",
       "      <td>NaN</td>\n",
       "      <td>NaN</td>\n",
       "      <td>NaN</td>\n",
       "    </tr>\n",
       "    <tr>\n",
       "      <th>...</th>\n",
       "      <td>...</td>\n",
       "      <td>...</td>\n",
       "      <td>...</td>\n",
       "      <td>...</td>\n",
       "      <td>...</td>\n",
       "      <td>...</td>\n",
       "      <td>...</td>\n",
       "      <td>...</td>\n",
       "      <td>...</td>\n",
       "      <td>...</td>\n",
       "      <td>...</td>\n",
       "      <td>...</td>\n",
       "      <td>...</td>\n",
       "      <td>...</td>\n",
       "      <td>...</td>\n",
       "      <td>...</td>\n",
       "      <td>...</td>\n",
       "      <td>...</td>\n",
       "      <td>...</td>\n",
       "      <td>...</td>\n",
       "      <td>...</td>\n",
       "    </tr>\n",
       "    <tr>\n",
       "      <th>6967</th>\n",
       "      <td>Trojan</td>\n",
       "      <td>not-a-virus:Downloader.Win32.LMN.it</td>\n",
       "      <td>15189210f4cbdf562a193e16bc675002135fa58f0649e3...</td>\n",
       "      <td>VirtualQueryEx</td>\n",
       "      <td>GetModuleFileNameW</td>\n",
       "      <td>GetModuleFileNameA</td>\n",
       "      <td>CreateSemaphoreW</td>\n",
       "      <td>CreateSemaphoreA</td>\n",
       "      <td>GetCommandLineA</td>\n",
       "      <td>GetStartupInfoA</td>\n",
       "      <td>...</td>\n",
       "      <td>NaN</td>\n",
       "      <td>NaN</td>\n",
       "      <td>NaN</td>\n",
       "      <td>NaN</td>\n",
       "      <td>NaN</td>\n",
       "      <td>NaN</td>\n",
       "      <td>NaN</td>\n",
       "      <td>NaN</td>\n",
       "      <td>NaN</td>\n",
       "      <td>NaN</td>\n",
       "    </tr>\n",
       "    <tr>\n",
       "      <th>16811</th>\n",
       "      <td>Worm</td>\n",
       "      <td>Worm.Win32.AutoRun.hjk</td>\n",
       "      <td>05ff97c14e1548de650a99d2189118d31dacaa6911fad6...</td>\n",
       "      <td>GetVersionExW</td>\n",
       "      <td>GetVersionExA</td>\n",
       "      <td>GetModuleHandleW</td>\n",
       "      <td>GetModuleHandleA</td>\n",
       "      <td>GetProcAddress</td>\n",
       "      <td>LocalAlloc</td>\n",
       "      <td>lstrlenW</td>\n",
       "      <td>...</td>\n",
       "      <td>NaN</td>\n",
       "      <td>NaN</td>\n",
       "      <td>NaN</td>\n",
       "      <td>NaN</td>\n",
       "      <td>NaN</td>\n",
       "      <td>NaN</td>\n",
       "      <td>NaN</td>\n",
       "      <td>NaN</td>\n",
       "      <td>NaN</td>\n",
       "      <td>NaN</td>\n",
       "    </tr>\n",
       "    <tr>\n",
       "      <th>383</th>\n",
       "      <td>Backdoor</td>\n",
       "      <td>Backdoor.Win32.Shiz.cebw</td>\n",
       "      <td>10a33e58e250af3fbe0d523f699bc407649fc0775b050a...</td>\n",
       "      <td>GetVersionExW</td>\n",
       "      <td>GetVersionExA</td>\n",
       "      <td>GetModuleHandleW</td>\n",
       "      <td>GetModuleHandleA</td>\n",
       "      <td>GetProcAddress</td>\n",
       "      <td>LocalAlloc</td>\n",
       "      <td>lstrlenW</td>\n",
       "      <td>...</td>\n",
       "      <td>NaN</td>\n",
       "      <td>NaN</td>\n",
       "      <td>NaN</td>\n",
       "      <td>NaN</td>\n",
       "      <td>NaN</td>\n",
       "      <td>NaN</td>\n",
       "      <td>NaN</td>\n",
       "      <td>NaN</td>\n",
       "      <td>NaN</td>\n",
       "      <td>NaN</td>\n",
       "    </tr>\n",
       "    <tr>\n",
       "      <th>13542</th>\n",
       "      <td>Trojan</td>\n",
       "      <td>Trojan-FakeAV.Win32.SmartFortress2012.jv</td>\n",
       "      <td>8a88b6ce08b60afa59cdb1b5979ba027eea991682acf72...</td>\n",
       "      <td>GetDeviceCaps</td>\n",
       "      <td>ReleaseDC</td>\n",
       "      <td>CreateMailslotW</td>\n",
       "      <td>lstrlenA</td>\n",
       "      <td>SearchPathW</td>\n",
       "      <td>CreateFileW</td>\n",
       "      <td>CreateFileMappingW</td>\n",
       "      <td>...</td>\n",
       "      <td>NaN</td>\n",
       "      <td>NaN</td>\n",
       "      <td>NaN</td>\n",
       "      <td>NaN</td>\n",
       "      <td>NaN</td>\n",
       "      <td>NaN</td>\n",
       "      <td>NaN</td>\n",
       "      <td>NaN</td>\n",
       "      <td>NaN</td>\n",
       "      <td>NaN</td>\n",
       "    </tr>\n",
       "    <tr>\n",
       "      <th>2173</th>\n",
       "      <td>Trojan</td>\n",
       "      <td>HEUR:Trojan.Win32.Generic</td>\n",
       "      <td>6ee56476d538d1cd82ff48832f5fba81ed4ee2b7ff4853...</td>\n",
       "      <td>WaitForSingleObjectEx</td>\n",
       "      <td>WaitForSingleObject</td>\n",
       "      <td>SearchPathW</td>\n",
       "      <td>CreateFileW</td>\n",
       "      <td>CreateFileMappingW</td>\n",
       "      <td>MapViewOfFileEx</td>\n",
       "      <td>LoadLibraryExW</td>\n",
       "      <td>...</td>\n",
       "      <td>NaN</td>\n",
       "      <td>NaN</td>\n",
       "      <td>NaN</td>\n",
       "      <td>NaN</td>\n",
       "      <td>NaN</td>\n",
       "      <td>NaN</td>\n",
       "      <td>NaN</td>\n",
       "      <td>NaN</td>\n",
       "      <td>NaN</td>\n",
       "      <td>NaN</td>\n",
       "    </tr>\n",
       "  </tbody>\n",
       "</table>\n",
       "<p>17275 rows × 598 columns</p>\n",
       "</div>"
      ],
      "text/plain": [
       "            0                                         1    \\\n",
       "15923    Trojan                Trojan-Spy.Win32.Zbot.lcdm   \n",
       "11229    Trojan             Trojan-FakeAV.Win32.Agent.dlw   \n",
       "1953     Trojan                 HEUR:Trojan.Win32.Generic   \n",
       "11702    Trojan             Trojan-FakeAV.Win32.Agent.dov   \n",
       "7637     Trojan                      Packed.Win32.Krap.an   \n",
       "...         ...                                       ...   \n",
       "6967     Trojan       not-a-virus:Downloader.Win32.LMN.it   \n",
       "16811      Worm                    Worm.Win32.AutoRun.hjk   \n",
       "383    Backdoor                  Backdoor.Win32.Shiz.cebw   \n",
       "13542    Trojan  Trojan-FakeAV.Win32.SmartFortress2012.jv   \n",
       "2173     Trojan                 HEUR:Trojan.Win32.Generic   \n",
       "\n",
       "                                                     2    \\\n",
       "15923  06eb604bc250d7579fe6c7e7cb5490b44cb078cafe38cd...   \n",
       "11229  39de5f0e64e3e25c7fe00750fa4809ad67e53c2c38617b...   \n",
       "1953   048bcfe716f763bc96a25c181bb8221116284d01a99aa9...   \n",
       "11702  dc32dbfa9c7f0824b6a271538366942f3a3683dd4d16d4...   \n",
       "7637   1289464ca076ff070b2076ff114cb792e9e4fe205cebc6...   \n",
       "...                                                  ...   \n",
       "6967   15189210f4cbdf562a193e16bc675002135fa58f0649e3...   \n",
       "16811  05ff97c14e1548de650a99d2189118d31dacaa6911fad6...   \n",
       "383    10a33e58e250af3fbe0d523f699bc407649fc0775b050a...   \n",
       "13542  8a88b6ce08b60afa59cdb1b5979ba027eea991682acf72...   \n",
       "2173   6ee56476d538d1cd82ff48832f5fba81ed4ee2b7ff4853...   \n",
       "\n",
       "                         3                     4                         5    \\\n",
       "15923           CreateEventW          CreateEventA            LoadLibraryExW   \n",
       "11229      IsDebuggerPresent  CreateWaitableTimerW      CreateWaitableTimerA   \n",
       "1953              LocalAlloc      CreateSemaphoreW          CreateSemaphoreA   \n",
       "11702        FindResourceExW          LoadResource   GetProcessWindowStation   \n",
       "7637            CreateEventW      CreateSemaphoreW  RegisterClipboardFormatA   \n",
       "...                      ...                   ...                       ...   \n",
       "6967          VirtualQueryEx    GetModuleFileNameW        GetModuleFileNameA   \n",
       "16811          GetVersionExW         GetVersionExA          GetModuleHandleW   \n",
       "383            GetVersionExW         GetVersionExA          GetModuleHandleW   \n",
       "13542          GetDeviceCaps             ReleaseDC           CreateMailslotW   \n",
       "2173   WaitForSingleObjectEx   WaitForSingleObject               SearchPathW   \n",
       "\n",
       "                             6                   7                   8    \\\n",
       "15923             LoadLibraryExA        LoadLibraryA      IsDBCSLeadByte   \n",
       "11229                SearchPathW         CreateFileW  CreateFileMappingW   \n",
       "1953                CreateEventA         CreateFileW     DeviceIoControl   \n",
       "11702  GetUserObjectInformationW            lstrcpyW           CharPrevW   \n",
       "7637         GetSystemDirectoryA       GetVersionExW      IsDBCSLeadByte   \n",
       "...                          ...                 ...                 ...   \n",
       "6967            CreateSemaphoreW    CreateSemaphoreA     GetCommandLineA   \n",
       "16811           GetModuleHandleA      GetProcAddress          LocalAlloc   \n",
       "383             GetModuleHandleA      GetProcAddress          LocalAlloc   \n",
       "13542                   lstrlenA         SearchPathW         CreateFileW   \n",
       "2173                 CreateFileW  CreateFileMappingW     MapViewOfFileEx   \n",
       "\n",
       "                      9    ...  588  589  590  591  592  593  594  595  596  \\\n",
       "15923     FindResourceExW  ...  NaN  NaN  NaN  NaN  NaN  NaN  NaN  NaN  NaN   \n",
       "11229     MapViewOfFileEx  ...  NaN  NaN  NaN  NaN  NaN  NaN  NaN  NaN  NaN   \n",
       "1953      DuplicateHandle  ...  NaN  NaN  NaN  NaN  NaN  NaN  NaN  NaN  NaN   \n",
       "11702           lstrcpynW  ...  NaN  NaN  NaN  NaN  NaN  NaN  NaN  NaN  NaN   \n",
       "7637       CompareStringW  ...  NaN  NaN  NaN  NaN  NaN  NaN  NaN  NaN  NaN   \n",
       "...                   ...  ...  ...  ...  ...  ...  ...  ...  ...  ...  ...   \n",
       "6967      GetStartupInfoA  ...  NaN  NaN  NaN  NaN  NaN  NaN  NaN  NaN  NaN   \n",
       "16811            lstrlenW  ...  NaN  NaN  NaN  NaN  NaN  NaN  NaN  NaN  NaN   \n",
       "383              lstrlenW  ...  NaN  NaN  NaN  NaN  NaN  NaN  NaN  NaN  NaN   \n",
       "13542  CreateFileMappingW  ...  NaN  NaN  NaN  NaN  NaN  NaN  NaN  NaN  NaN   \n",
       "2173       LoadLibraryExW  ...  NaN  NaN  NaN  NaN  NaN  NaN  NaN  NaN  NaN   \n",
       "\n",
       "       597  \n",
       "15923  NaN  \n",
       "11229  NaN  \n",
       "1953   NaN  \n",
       "11702  NaN  \n",
       "7637   NaN  \n",
       "...    ...  \n",
       "6967   NaN  \n",
       "16811  NaN  \n",
       "383    NaN  \n",
       "13542  NaN  \n",
       "2173   NaN  \n",
       "\n",
       "[17275 rows x 598 columns]"
      ]
     },
     "execution_count": 7,
     "metadata": {},
     "output_type": "execute_result"
    }
   ],
   "source": [
    "dataset"
   ]
  },
  {
   "cell_type": "code",
   "execution_count": 8,
   "metadata": {
    "colab": {
     "base_uri": "https://localhost:8080/"
    },
    "id": "NQmQ2-HbZuFa",
    "outputId": "df8fb707-0993-444e-81ba-1820fdc4be25"
   },
   "outputs": [
    {
     "name": "stdout",
     "output_type": "stream",
     "text": [
      "            0                                         1    \\\n",
      "15923    Trojan                Trojan-Spy.Win32.Zbot.lcdm   \n",
      "11229    Trojan             Trojan-FakeAV.Win32.Agent.dlw   \n",
      "1953     Trojan                 HEUR:Trojan.Win32.Generic   \n",
      "11702    Trojan             Trojan-FakeAV.Win32.Agent.dov   \n",
      "7637     Trojan                      Packed.Win32.Krap.an   \n",
      "...         ...                                       ...   \n",
      "6967     Trojan       not-a-virus:Downloader.Win32.LMN.it   \n",
      "16811      Worm                    Worm.Win32.AutoRun.hjk   \n",
      "383    Backdoor                  Backdoor.Win32.Shiz.cebw   \n",
      "13542    Trojan  Trojan-FakeAV.Win32.SmartFortress2012.jv   \n",
      "2173     Trojan                 HEUR:Trojan.Win32.Generic   \n",
      "\n",
      "                                                     2    \\\n",
      "15923  06eb604bc250d7579fe6c7e7cb5490b44cb078cafe38cd...   \n",
      "11229  39de5f0e64e3e25c7fe00750fa4809ad67e53c2c38617b...   \n",
      "1953   048bcfe716f763bc96a25c181bb8221116284d01a99aa9...   \n",
      "11702  dc32dbfa9c7f0824b6a271538366942f3a3683dd4d16d4...   \n",
      "7637   1289464ca076ff070b2076ff114cb792e9e4fe205cebc6...   \n",
      "...                                                  ...   \n",
      "6967   15189210f4cbdf562a193e16bc675002135fa58f0649e3...   \n",
      "16811  05ff97c14e1548de650a99d2189118d31dacaa6911fad6...   \n",
      "383    10a33e58e250af3fbe0d523f699bc407649fc0775b050a...   \n",
      "13542  8a88b6ce08b60afa59cdb1b5979ba027eea991682acf72...   \n",
      "2173   6ee56476d538d1cd82ff48832f5fba81ed4ee2b7ff4853...   \n",
      "\n",
      "                         3                     4                         5    \\\n",
      "15923           CreateEventW          CreateEventA            LoadLibraryExW   \n",
      "11229      IsDebuggerPresent  CreateWaitableTimerW      CreateWaitableTimerA   \n",
      "1953              LocalAlloc      CreateSemaphoreW          CreateSemaphoreA   \n",
      "11702        FindResourceExW          LoadResource   GetProcessWindowStation   \n",
      "7637            CreateEventW      CreateSemaphoreW  RegisterClipboardFormatA   \n",
      "...                      ...                   ...                       ...   \n",
      "6967          VirtualQueryEx    GetModuleFileNameW        GetModuleFileNameA   \n",
      "16811          GetVersionExW         GetVersionExA          GetModuleHandleW   \n",
      "383            GetVersionExW         GetVersionExA          GetModuleHandleW   \n",
      "13542          GetDeviceCaps             ReleaseDC           CreateMailslotW   \n",
      "2173   WaitForSingleObjectEx   WaitForSingleObject               SearchPathW   \n",
      "\n",
      "                             6                   7                   8    \\\n",
      "15923             LoadLibraryExA        LoadLibraryA      IsDBCSLeadByte   \n",
      "11229                SearchPathW         CreateFileW  CreateFileMappingW   \n",
      "1953                CreateEventA         CreateFileW     DeviceIoControl   \n",
      "11702  GetUserObjectInformationW            lstrcpyW           CharPrevW   \n",
      "7637         GetSystemDirectoryA       GetVersionExW      IsDBCSLeadByte   \n",
      "...                          ...                 ...                 ...   \n",
      "6967            CreateSemaphoreW    CreateSemaphoreA     GetCommandLineA   \n",
      "16811           GetModuleHandleA      GetProcAddress          LocalAlloc   \n",
      "383             GetModuleHandleA      GetProcAddress          LocalAlloc   \n",
      "13542                   lstrlenA         SearchPathW         CreateFileW   \n",
      "2173                 CreateFileW  CreateFileMappingW     MapViewOfFileEx   \n",
      "\n",
      "                      9    ...  588  589  590  591  592  593  594  595  596  \\\n",
      "15923     FindResourceExW  ...  NaN  NaN  NaN  NaN  NaN  NaN  NaN  NaN  NaN   \n",
      "11229     MapViewOfFileEx  ...  NaN  NaN  NaN  NaN  NaN  NaN  NaN  NaN  NaN   \n",
      "1953      DuplicateHandle  ...  NaN  NaN  NaN  NaN  NaN  NaN  NaN  NaN  NaN   \n",
      "11702           lstrcpynW  ...  NaN  NaN  NaN  NaN  NaN  NaN  NaN  NaN  NaN   \n",
      "7637       CompareStringW  ...  NaN  NaN  NaN  NaN  NaN  NaN  NaN  NaN  NaN   \n",
      "...                   ...  ...  ...  ...  ...  ...  ...  ...  ...  ...  ...   \n",
      "6967      GetStartupInfoA  ...  NaN  NaN  NaN  NaN  NaN  NaN  NaN  NaN  NaN   \n",
      "16811            lstrlenW  ...  NaN  NaN  NaN  NaN  NaN  NaN  NaN  NaN  NaN   \n",
      "383              lstrlenW  ...  NaN  NaN  NaN  NaN  NaN  NaN  NaN  NaN  NaN   \n",
      "13542  CreateFileMappingW  ...  NaN  NaN  NaN  NaN  NaN  NaN  NaN  NaN  NaN   \n",
      "2173       LoadLibraryExW  ...  NaN  NaN  NaN  NaN  NaN  NaN  NaN  NaN  NaN   \n",
      "\n",
      "       597  \n",
      "15923  NaN  \n",
      "11229  NaN  \n",
      "1953   NaN  \n",
      "11702  NaN  \n",
      "7637   NaN  \n",
      "...    ...  \n",
      "6967   NaN  \n",
      "16811  NaN  \n",
      "383    NaN  \n",
      "13542  NaN  \n",
      "2173   NaN  \n",
      "\n",
      "[17275 rows x 598 columns]\n"
     ]
    }
   ],
   "source": [
    "print(dataset)"
   ]
  },
  {
   "cell_type": "code",
   "execution_count": 9,
   "metadata": {
    "colab": {
     "base_uri": "https://localhost:8080/"
    },
    "id": "Vv84MyMbiA6f",
    "outputId": "4064ca3f-3940-4c87-b870-d19e05f04194"
   },
   "outputs": [
    {
     "data": {
      "text/plain": [
       "array([['CreateEventW', 'CreateEventA', 'LoadLibraryExW', ..., nan, nan,\n",
       "        nan],\n",
       "       ['IsDebuggerPresent', 'CreateWaitableTimerW',\n",
       "        'CreateWaitableTimerA', ..., nan, nan, nan],\n",
       "       ['LocalAlloc', 'CreateSemaphoreW', 'CreateSemaphoreA', ..., nan,\n",
       "        nan, nan],\n",
       "       ...,\n",
       "       ['GetVersionExW', 'GetVersionExA', 'GetModuleHandleW', ..., nan,\n",
       "        nan, nan],\n",
       "       ['GetDeviceCaps', 'ReleaseDC', 'CreateMailslotW', ..., nan, nan,\n",
       "        nan],\n",
       "       ['WaitForSingleObjectEx', 'WaitForSingleObject', 'SearchPathW',\n",
       "        ..., nan, nan, nan]], dtype=object)"
      ]
     },
     "execution_count": 9,
     "metadata": {},
     "output_type": "execute_result"
    }
   ],
   "source": [
    "dataset_X = dataset.values[:,3:598]\n",
    "dataset_X"
   ]
  },
  {
   "cell_type": "code",
   "execution_count": 10,
   "metadata": {
    "colab": {
     "base_uri": "https://localhost:8080/"
    },
    "id": "E1qh8OariEiV",
    "outputId": "cff19af8-0b3c-436b-f840-41c15de604f2"
   },
   "outputs": [
    {
     "data": {
      "text/plain": [
       "array(['Trojan', 'Trojan', 'Trojan', ..., 'Backdoor', 'Trojan', 'Trojan'],\n",
       "      dtype=object)"
      ]
     },
     "execution_count": 10,
     "metadata": {},
     "output_type": "execute_result"
    }
   ],
   "source": [
    "dataset_Y = dataset.values[:,0]\n",
    "dataset_Y\n",
    "#dataset.values[5000,0]"
   ]
  },
  {
   "cell_type": "markdown",
   "metadata": {
    "id": "szGXDsWHjB6Y"
   },
   "source": [
    "Preprocessing data"
   ]
  },
  {
   "cell_type": "code",
   "execution_count": 11,
   "metadata": {
    "colab": {
     "base_uri": "https://localhost:8080/"
    },
    "id": "7hz-8UQxi8yn",
    "outputId": "a8e365f8-2fed-4d4d-acd5-f76442a012c6"
   },
   "outputs": [
    {
     "data": {
      "text/plain": [
       "array([[  4,   6, 104, ...,  25,  15,  10],\n",
       "       [ 79,  18,  23, ...,  25,  15,  10],\n",
       "       [ 85,  16,  20, ...,  25,  15,  10],\n",
       "       ...,\n",
       "       [ 63,  82,  61, ...,  25,  15,  10],\n",
       "       [ 29, 119,  15, ...,  25,  15,  10],\n",
       "       [119, 138, 123, ...,  25,  15,  10]])"
      ]
     },
     "execution_count": 11,
     "metadata": {},
     "output_type": "execute_result"
    }
   ],
   "source": [
    "le = preprocessing.LabelEncoder()\n",
    "\n",
    "dataset_X_pandas = pd.DataFrame(dataset_X,dtype=str)\n",
    "dataset_X_pandas.apply(le.fit_transform)\n",
    "\n",
    "dataset_X = dataset_X_pandas.apply(le.fit_transform).values[:,:]\n",
    "dataset_X"
   ]
  },
  {
   "cell_type": "code",
   "execution_count": 12,
   "metadata": {
    "colab": {
     "base_uri": "https://localhost:8080/"
    },
    "id": "HTH3JAE0jQzx",
    "outputId": "ce18ba0e-aa30-4137-c1d5-195b16fada7e"
   },
   "outputs": [
    {
     "data": {
      "text/plain": [
       "array([[6],\n",
       "       [6],\n",
       "       [6],\n",
       "       ...,\n",
       "       [2],\n",
       "       [6],\n",
       "       [6]])"
      ]
     },
     "execution_count": 12,
     "metadata": {},
     "output_type": "execute_result"
    }
   ],
   "source": [
    "le = preprocessing.LabelEncoder()\n",
    "\n",
    "dataset_Y_pandas = pd.DataFrame(dataset_Y,dtype=str)\n",
    "dataset_Y_pandas.apply(le.fit_transform)\n",
    "\n",
    "dataset_Y = dataset_Y_pandas.apply(le.fit_transform).values[:,:]\n",
    "\n",
    "dataset_Y"
   ]
  },
  {
   "cell_type": "code",
   "execution_count": 13,
   "metadata": {
    "id": "jdB7igWJk2hT"
   },
   "outputs": [],
   "source": [
    "X_train, X_test, Y_train, Y_test = train_test_split(dataset_X, dataset_Y, test_size=0.5, random_state=42)"
   ]
  },
  {
   "cell_type": "code",
   "execution_count": 14,
   "metadata": {
    "colab": {
     "base_uri": "https://localhost:8080/"
    },
    "id": "aSNc06RRI1Su",
    "outputId": "f6b143bf-ac0e-431d-aa05-22a4c1b227f1"
   },
   "outputs": [
    {
     "name": "stdout",
     "output_type": "stream",
     "text": [
      "MinMaxScaler()\n",
      "[[0.4015748  0.56164384 0.60927152 ... 1.         1.         1.        ]\n",
      " [0.65354331 0.84246575 0.70198675 ... 1.         1.         1.        ]\n",
      " [0.17322835 0.41780822 0.71523179 ... 1.         1.         1.        ]\n",
      " ...\n",
      " [0.97637795 0.51369863 0.97350993 ... 1.         1.         1.        ]\n",
      " [0.97637795 0.51369863 0.97350993 ... 1.         1.         1.        ]\n",
      " [0.17322835 0.41780822 0.71523179 ... 1.         1.         1.        ]]\n"
     ]
    }
   ],
   "source": [
    "from sklearn.preprocessing import MinMaxScaler\n",
    "\n",
    "data = X_train\n",
    "scaler = MinMaxScaler()\n",
    "print(scaler.fit(data))\n",
    "\n",
    "print(scaler.transform(data))\n",
    "\n",
    "X_train = scaler.transform(data)\n",
    "\n",
    "X_test = scaler.transform(X_test)"
   ]
  },
  {
   "cell_type": "code",
   "execution_count": 15,
   "metadata": {
    "colab": {
     "base_uri": "https://localhost:8080/"
    },
    "id": "jq1n6yHoJM1p",
    "outputId": "f621641c-7338-4f55-ccf2-5c67e4fbfd09"
   },
   "outputs": [
    {
     "name": "stdout",
     "output_type": "stream",
     "text": [
      "MinMaxScaler()\n",
      "[[0.        ]\n",
      " [0.36363636]\n",
      " [0.54545455]\n",
      " ...\n",
      " [0.54545455]\n",
      " [0.54545455]\n",
      " [0.54545455]]\n"
     ]
    }
   ],
   "source": [
    "from sklearn.preprocessing import MinMaxScaler\n",
    "\n",
    "data = Y_train\n",
    "scaler = MinMaxScaler()\n",
    "print(scaler.fit(data))\n",
    "\n",
    "print(scaler.transform(data))\n",
    "\n",
    "Y_train = scaler.transform(data)\n",
    "Y_test = scaler.transform(Y_test)"
   ]
  },
  {
   "cell_type": "code",
   "execution_count": 16,
   "metadata": {
    "id": "aG0I3Irg7bLQ"
   },
   "outputs": [],
   "source": [
    "from tensorflow.keras.utils import to_categorical\n",
    "Y_train = to_categorical(Y_train,num_classes=12)  # Assuming Y\n",
    "Y_test = to_categorical(Y_test,num_classes=12)  #"
   ]
  },
  {
   "cell_type": "code",
   "execution_count": 17,
   "metadata": {
    "id": "bsViPLtpmeL-"
   },
   "outputs": [],
   "source": [
    "import numpy as np\n",
    "import tensorflow as tf\n",
    "from tensorflow.keras.models import Sequential\n",
    "from tensorflow.keras.layers import LSTM, Dense, Embedding"
   ]
  },
  {
   "cell_type": "code",
   "execution_count": 18,
   "metadata": {
    "id": "6fPMghV2ml5W"
   },
   "outputs": [],
   "source": [
    "vocab_size = 1000\n",
    "max_sequence_length = 595"
   ]
  },
  {
   "cell_type": "code",
   "execution_count": 19,
   "metadata": {
    "colab": {
     "base_uri": "https://localhost:8080/"
    },
    "id": "Djjcazo2mral",
    "outputId": "d33e1e01-88bf-473b-c7cc-63392162087d"
   },
   "outputs": [
    {
     "name": "stdout",
     "output_type": "stream",
     "text": [
      "Model: \"sequential\"\n",
      "_________________________________________________________________\n",
      " Layer (type)                Output Shape              Param #   \n",
      "=================================================================\n",
      " embedding (Embedding)       (None, 595, 32)           32000     \n",
      "                                                                 \n",
      " lstm (LSTM)                 (None, 64)                24832     \n",
      "                                                                 \n",
      " dense (Dense)               (None, 12)                780       \n",
      "                                                                 \n",
      "=================================================================\n",
      "Total params: 57,612\n",
      "Trainable params: 57,612\n",
      "Non-trainable params: 0\n",
      "_________________________________________________________________\n"
     ]
    }
   ],
   "source": [
    "model = Sequential()\n",
    "model.add(Embedding(vocab_size, 32, input_length=max_sequence_length))\n",
    "model.add(LSTM(64))\n",
    "model.add(Dense(12, activation='softmax'))\n",
    "model.summary()\n",
    "\n",
    "# Compile the model\n",
    "model.compile(loss='categorical_crossentropy', optimizer='adam', metrics=['accuracy'])\n"
   ]
  },
  {
   "cell_type": "code",
   "execution_count": null,
   "metadata": {
    "colab": {
     "base_uri": "https://localhost:8080/",
     "height": 727
    },
    "id": "apwJdIqdmveb",
    "outputId": "02b3bf09-13d2-457b-c18f-1b489d60b6dc"
   },
   "outputs": [
    {
     "name": "stderr",
     "output_type": "stream",
     "text": [
      "\u001b[1;38;5;39mCOMET INFO:\u001b[0m Ignoring automatic log_parameter('verbose') because 'keras:verbose' is in COMET_LOGGING_PARAMETERS_IGNORE\n"
     ]
    },
    {
     "name": "stdout",
     "output_type": "stream",
     "text": [
      "Epoch 1/100\n",
      "216/216 [==============================] - 71s 319ms/step - loss: 0.1699 - accuracy: 0.9945 - val_loss: 0.0053 - val_accuracy: 0.9994\n",
      "Epoch 2/100\n",
      "216/216 [==============================] - 69s 318ms/step - loss: 0.0074 - accuracy: 0.9991 - val_loss: 0.0051 - val_accuracy: 0.9994\n",
      "Epoch 3/100\n",
      "216/216 [==============================] - 66s 304ms/step - loss: 0.0073 - accuracy: 0.9991 - val_loss: 0.0050 - val_accuracy: 0.9994\n",
      "Epoch 4/100\n",
      "216/216 [==============================] - 68s 314ms/step - loss: 0.0073 - accuracy: 0.9991 - val_loss: 0.0051 - val_accuracy: 0.9994\n",
      "Epoch 5/100\n",
      "216/216 [==============================] - 69s 319ms/step - loss: 0.0073 - accuracy: 0.9991 - val_loss: 0.0050 - val_accuracy: 0.9994\n",
      "Epoch 6/100\n",
      "216/216 [==============================] - 22295s 104s/step - loss: 0.0073 - accuracy: 0.9991 - val_loss: 0.0050 - val_accuracy: 0.9994\n",
      "Epoch 7/100\n",
      "216/216 [==============================] - 90s 416ms/step - loss: 0.0072 - accuracy: 0.9991 - val_loss: 0.0049 - val_accuracy: 0.9994\n",
      "Epoch 8/100\n",
      "216/216 [==============================] - 76s 354ms/step - loss: 0.0072 - accuracy: 0.9991 - val_loss: 0.0050 - val_accuracy: 0.9994\n",
      "Epoch 9/100\n",
      "216/216 [==============================] - 69s 319ms/step - loss: 0.0071 - accuracy: 0.9991 - val_loss: 0.0050 - val_accuracy: 0.9994\n",
      "Epoch 10/100\n",
      "216/216 [==============================] - 73s 338ms/step - loss: 0.0074 - accuracy: 0.9991 - val_loss: 0.0049 - val_accuracy: 0.9994\n",
      "Epoch 11/100\n",
      "216/216 [==============================] - 70s 323ms/step - loss: 0.0074 - accuracy: 0.9991 - val_loss: 0.0050 - val_accuracy: 0.9994\n",
      "Epoch 12/100\n",
      "216/216 [==============================] - 71s 332ms/step - loss: 0.0073 - accuracy: 0.9991 - val_loss: 0.0049 - val_accuracy: 0.9994\n",
      "Epoch 13/100\n",
      "216/216 [==============================] - 69s 321ms/step - loss: 0.0072 - accuracy: 0.9991 - val_loss: 0.0053 - val_accuracy: 0.9994\n",
      "Epoch 14/100\n",
      "216/216 [==============================] - 441s 2s/step - loss: 0.0073 - accuracy: 0.9991 - val_loss: 0.0049 - val_accuracy: 0.9994\n",
      "Epoch 15/100\n",
      "216/216 [==============================] - 17613s 82s/step - loss: 0.0072 - accuracy: 0.9991 - val_loss: 0.0049 - val_accuracy: 0.9994\n",
      "Epoch 16/100\n",
      "216/216 [==============================] - 63s 291ms/step - loss: 0.0072 - accuracy: 0.9991 - val_loss: 0.0057 - val_accuracy: 0.9994\n",
      "Epoch 17/100\n",
      "216/216 [==============================] - 63s 293ms/step - loss: 0.0073 - accuracy: 0.9991 - val_loss: 0.0049 - val_accuracy: 0.9994\n",
      "Epoch 18/100\n",
      "216/216 [==============================] - 83s 384ms/step - loss: 0.0073 - accuracy: 0.9991 - val_loss: 0.0049 - val_accuracy: 0.9994\n",
      "Epoch 19/100\n",
      "216/216 [==============================] - 91s 422ms/step - loss: 0.0073 - accuracy: 0.9991 - val_loss: 0.0049 - val_accuracy: 0.9994\n",
      "Epoch 20/100\n",
      "216/216 [==============================] - 4175s 19s/step - loss: 0.0073 - accuracy: 0.9991 - val_loss: 0.0049 - val_accuracy: 0.9994\n",
      "Epoch 21/100\n",
      "216/216 [==============================] - 89s 410ms/step - loss: 0.0072 - accuracy: 0.9991 - val_loss: 0.0049 - val_accuracy: 0.9994\n",
      "Epoch 22/100\n",
      "216/216 [==============================] - 2553s 12s/step - loss: 0.0073 - accuracy: 0.9991 - val_loss: 0.0049 - val_accuracy: 0.9994\n",
      "Epoch 23/100\n",
      "216/216 [==============================] - 96s 446ms/step - loss: 0.0072 - accuracy: 0.9991 - val_loss: 0.0049 - val_accuracy: 0.9994\n",
      "Epoch 24/100\n",
      "216/216 [==============================] - 97s 447ms/step - loss: 0.0072 - accuracy: 0.9991 - val_loss: 0.0050 - val_accuracy: 0.9994\n",
      "Epoch 25/100\n",
      "216/216 [==============================] - 6007s 28s/step - loss: 0.0073 - accuracy: 0.9991 - val_loss: 0.0051 - val_accuracy: 0.9994\n",
      "Epoch 26/100\n",
      "216/216 [==============================] - 57s 263ms/step - loss: 0.0070 - accuracy: 0.9991 - val_loss: 0.0050 - val_accuracy: 0.9994\n",
      "Epoch 27/100\n",
      "216/216 [==============================] - 86s 399ms/step - loss: 0.0074 - accuracy: 0.9991 - val_loss: 0.0050 - val_accuracy: 0.9994\n",
      "Epoch 28/100\n",
      "216/216 [==============================] - 84s 391ms/step - loss: 0.0072 - accuracy: 0.9991 - val_loss: 0.0052 - val_accuracy: 0.9994\n",
      "Epoch 29/100\n",
      "216/216 [==============================] - 84s 390ms/step - loss: 0.0071 - accuracy: 0.9991 - val_loss: 0.0049 - val_accuracy: 0.9994\n",
      "Epoch 30/100\n",
      "216/216 [==============================] - 83s 385ms/step - loss: 0.0072 - accuracy: 0.9991 - val_loss: 0.0049 - val_accuracy: 0.9994\n",
      "Epoch 31/100\n",
      "216/216 [==============================] - 85s 392ms/step - loss: 0.0071 - accuracy: 0.9991 - val_loss: 0.0052 - val_accuracy: 0.9994\n",
      "Epoch 32/100\n",
      "216/216 [==============================] - 84s 387ms/step - loss: 0.0072 - accuracy: 0.9991 - val_loss: 0.0049 - val_accuracy: 0.9994\n",
      "Epoch 33/100\n",
      "216/216 [==============================] - 89s 410ms/step - loss: 0.0072 - accuracy: 0.9991 - val_loss: 0.0049 - val_accuracy: 0.9994\n",
      "Epoch 34/100\n",
      "216/216 [==============================] - 89s 414ms/step - loss: 0.0072 - accuracy: 0.9991 - val_loss: 0.0049 - val_accuracy: 0.9994\n",
      "Epoch 35/100\n",
      "198/216 [==========================>...] - ETA: 6s - loss: 0.0066 - accuracy: 0.9992"
     ]
    }
   ],
   "source": [
    "model.fit(X_train, Y_train, batch_size=32, epochs=100,validation_split=0.2)"
   ]
  },
  {
   "cell_type": "code",
   "execution_count": null,
   "metadata": {},
   "outputs": [],
   "source": []
  }
 ],
 "metadata": {
  "colab": {
   "provenance": []
  },
  "kernelspec": {
   "display_name": "Python 3 (ipykernel)",
   "language": "python",
   "name": "python3"
  },
  "language_info": {
   "codemirror_mode": {
    "name": "ipython",
    "version": 3
   },
   "file_extension": ".py",
   "mimetype": "text/x-python",
   "name": "python",
   "nbconvert_exporter": "python",
   "pygments_lexer": "ipython3",
   "version": "3.10.9"
  }
 },
 "nbformat": 4,
 "nbformat_minor": 4
}
