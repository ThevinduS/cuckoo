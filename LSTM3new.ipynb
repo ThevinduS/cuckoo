{
  "cells": [
    {
      "cell_type": "markdown",
      "metadata": {
        "id": "view-in-github",
        "colab_type": "text"
      },
      "source": [
        "<a href=\"https://colab.research.google.com/github/ThevinduS/cuckoo/blob/master/LSTM3new.ipynb\" target=\"_parent\"><img src=\"https://colab.research.google.com/assets/colab-badge.svg\" alt=\"Open In Colab\"/></a>"
      ]
    },
    {
      "cell_type": "markdown",
      "metadata": {
        "id": "1Vl1VSxL8LKs"
      },
      "source": [
        "Importing liabraries"
      ]
    },
    {
      "cell_type": "code",
      "source": [
        "from google.colab import drive\n",
        "drive.mount('/content/drive')"
      ],
      "metadata": {
        "colab": {
          "base_uri": "https://localhost:8080/"
        },
        "id": "R6x7bjd4JxSc",
        "outputId": "a4d5c440-1b33-4613-b492-2d2506614725"
      },
      "execution_count": 1,
      "outputs": [
        {
          "output_type": "stream",
          "name": "stdout",
          "text": [
            "Mounted at /content/drive\n"
          ]
        }
      ]
    },
    {
      "cell_type": "markdown",
      "metadata": {
        "id": "CvN4kiu4aoEX"
      },
      "source": []
    },
    {
      "cell_type": "code",
      "execution_count": 2,
      "metadata": {
        "colab": {
          "base_uri": "https://localhost:8080/"
        },
        "id": "c7uD-e0Qwv8n",
        "outputId": "a85b838e-5942-479a-c98e-8e58a6e9a7af"
      },
      "outputs": [
        {
          "output_type": "stream",
          "name": "stdout",
          "text": [
            "Requirement already satisfied: keras in /usr/local/lib/python3.10/dist-packages (2.12.0)\n",
            "Requirement already satisfied: tensorflow in /usr/local/lib/python3.10/dist-packages (2.12.0)\n",
            "Requirement already satisfied: absl-py>=1.0.0 in /usr/local/lib/python3.10/dist-packages (from tensorflow) (1.4.0)\n",
            "Requirement already satisfied: astunparse>=1.6.0 in /usr/local/lib/python3.10/dist-packages (from tensorflow) (1.6.3)\n",
            "Requirement already satisfied: flatbuffers>=2.0 in /usr/local/lib/python3.10/dist-packages (from tensorflow) (23.5.26)\n",
            "Requirement already satisfied: gast<=0.4.0,>=0.2.1 in /usr/local/lib/python3.10/dist-packages (from tensorflow) (0.4.0)\n",
            "Requirement already satisfied: google-pasta>=0.1.1 in /usr/local/lib/python3.10/dist-packages (from tensorflow) (0.2.0)\n",
            "Requirement already satisfied: grpcio<2.0,>=1.24.3 in /usr/local/lib/python3.10/dist-packages (from tensorflow) (1.56.2)\n",
            "Requirement already satisfied: h5py>=2.9.0 in /usr/local/lib/python3.10/dist-packages (from tensorflow) (3.8.0)\n",
            "Requirement already satisfied: jax>=0.3.15 in /usr/local/lib/python3.10/dist-packages (from tensorflow) (0.4.13)\n",
            "Requirement already satisfied: keras<2.13,>=2.12.0 in /usr/local/lib/python3.10/dist-packages (from tensorflow) (2.12.0)\n",
            "Requirement already satisfied: libclang>=13.0.0 in /usr/local/lib/python3.10/dist-packages (from tensorflow) (16.0.6)\n",
            "Requirement already satisfied: numpy<1.24,>=1.22 in /usr/local/lib/python3.10/dist-packages (from tensorflow) (1.22.4)\n",
            "Requirement already satisfied: opt-einsum>=2.3.2 in /usr/local/lib/python3.10/dist-packages (from tensorflow) (3.3.0)\n",
            "Requirement already satisfied: packaging in /usr/local/lib/python3.10/dist-packages (from tensorflow) (23.1)\n",
            "Requirement already satisfied: protobuf!=4.21.0,!=4.21.1,!=4.21.2,!=4.21.3,!=4.21.4,!=4.21.5,<5.0.0dev,>=3.20.3 in /usr/local/lib/python3.10/dist-packages (from tensorflow) (3.20.3)\n",
            "Requirement already satisfied: setuptools in /usr/local/lib/python3.10/dist-packages (from tensorflow) (67.7.2)\n",
            "Requirement already satisfied: six>=1.12.0 in /usr/local/lib/python3.10/dist-packages (from tensorflow) (1.16.0)\n",
            "Requirement already satisfied: tensorboard<2.13,>=2.12 in /usr/local/lib/python3.10/dist-packages (from tensorflow) (2.12.3)\n",
            "Requirement already satisfied: tensorflow-estimator<2.13,>=2.12.0 in /usr/local/lib/python3.10/dist-packages (from tensorflow) (2.12.0)\n",
            "Requirement already satisfied: termcolor>=1.1.0 in /usr/local/lib/python3.10/dist-packages (from tensorflow) (2.3.0)\n",
            "Requirement already satisfied: typing-extensions>=3.6.6 in /usr/local/lib/python3.10/dist-packages (from tensorflow) (4.7.1)\n",
            "Requirement already satisfied: wrapt<1.15,>=1.11.0 in /usr/local/lib/python3.10/dist-packages (from tensorflow) (1.14.1)\n",
            "Requirement already satisfied: tensorflow-io-gcs-filesystem>=0.23.1 in /usr/local/lib/python3.10/dist-packages (from tensorflow) (0.32.0)\n",
            "Requirement already satisfied: wheel<1.0,>=0.23.0 in /usr/local/lib/python3.10/dist-packages (from astunparse>=1.6.0->tensorflow) (0.41.0)\n",
            "Requirement already satisfied: ml-dtypes>=0.1.0 in /usr/local/lib/python3.10/dist-packages (from jax>=0.3.15->tensorflow) (0.2.0)\n",
            "Requirement already satisfied: scipy>=1.7 in /usr/local/lib/python3.10/dist-packages (from jax>=0.3.15->tensorflow) (1.10.1)\n",
            "Requirement already satisfied: google-auth<3,>=1.6.3 in /usr/local/lib/python3.10/dist-packages (from tensorboard<2.13,>=2.12->tensorflow) (2.17.3)\n",
            "Requirement already satisfied: google-auth-oauthlib<1.1,>=0.5 in /usr/local/lib/python3.10/dist-packages (from tensorboard<2.13,>=2.12->tensorflow) (1.0.0)\n",
            "Requirement already satisfied: markdown>=2.6.8 in /usr/local/lib/python3.10/dist-packages (from tensorboard<2.13,>=2.12->tensorflow) (3.4.4)\n",
            "Requirement already satisfied: requests<3,>=2.21.0 in /usr/local/lib/python3.10/dist-packages (from tensorboard<2.13,>=2.12->tensorflow) (2.27.1)\n",
            "Requirement already satisfied: tensorboard-data-server<0.8.0,>=0.7.0 in /usr/local/lib/python3.10/dist-packages (from tensorboard<2.13,>=2.12->tensorflow) (0.7.1)\n",
            "Requirement already satisfied: werkzeug>=1.0.1 in /usr/local/lib/python3.10/dist-packages (from tensorboard<2.13,>=2.12->tensorflow) (2.3.6)\n",
            "Requirement already satisfied: cachetools<6.0,>=2.0.0 in /usr/local/lib/python3.10/dist-packages (from google-auth<3,>=1.6.3->tensorboard<2.13,>=2.12->tensorflow) (5.3.1)\n",
            "Requirement already satisfied: pyasn1-modules>=0.2.1 in /usr/local/lib/python3.10/dist-packages (from google-auth<3,>=1.6.3->tensorboard<2.13,>=2.12->tensorflow) (0.3.0)\n",
            "Requirement already satisfied: rsa<5,>=3.1.4 in /usr/local/lib/python3.10/dist-packages (from google-auth<3,>=1.6.3->tensorboard<2.13,>=2.12->tensorflow) (4.9)\n",
            "Requirement already satisfied: requests-oauthlib>=0.7.0 in /usr/local/lib/python3.10/dist-packages (from google-auth-oauthlib<1.1,>=0.5->tensorboard<2.13,>=2.12->tensorflow) (1.3.1)\n",
            "Requirement already satisfied: urllib3<1.27,>=1.21.1 in /usr/local/lib/python3.10/dist-packages (from requests<3,>=2.21.0->tensorboard<2.13,>=2.12->tensorflow) (1.26.16)\n",
            "Requirement already satisfied: certifi>=2017.4.17 in /usr/local/lib/python3.10/dist-packages (from requests<3,>=2.21.0->tensorboard<2.13,>=2.12->tensorflow) (2023.7.22)\n",
            "Requirement already satisfied: charset-normalizer~=2.0.0 in /usr/local/lib/python3.10/dist-packages (from requests<3,>=2.21.0->tensorboard<2.13,>=2.12->tensorflow) (2.0.12)\n",
            "Requirement already satisfied: idna<4,>=2.5 in /usr/local/lib/python3.10/dist-packages (from requests<3,>=2.21.0->tensorboard<2.13,>=2.12->tensorflow) (3.4)\n",
            "Requirement already satisfied: MarkupSafe>=2.1.1 in /usr/local/lib/python3.10/dist-packages (from werkzeug>=1.0.1->tensorboard<2.13,>=2.12->tensorflow) (2.1.3)\n",
            "Requirement already satisfied: pyasn1<0.6.0,>=0.4.6 in /usr/local/lib/python3.10/dist-packages (from pyasn1-modules>=0.2.1->google-auth<3,>=1.6.3->tensorboard<2.13,>=2.12->tensorflow) (0.5.0)\n",
            "Requirement already satisfied: oauthlib>=3.0.0 in /usr/local/lib/python3.10/dist-packages (from requests-oauthlib>=0.7.0->google-auth-oauthlib<1.1,>=0.5->tensorboard<2.13,>=2.12->tensorflow) (3.2.2)\n",
            "Requirement already satisfied: pandas in /usr/local/lib/python3.10/dist-packages (1.5.3)\n",
            "Requirement already satisfied: python-dateutil>=2.8.1 in /usr/local/lib/python3.10/dist-packages (from pandas) (2.8.2)\n",
            "Requirement already satisfied: pytz>=2020.1 in /usr/local/lib/python3.10/dist-packages (from pandas) (2022.7.1)\n",
            "Requirement already satisfied: numpy>=1.21.0 in /usr/local/lib/python3.10/dist-packages (from pandas) (1.22.4)\n",
            "Requirement already satisfied: six>=1.5 in /usr/local/lib/python3.10/dist-packages (from python-dateutil>=2.8.1->pandas) (1.16.0)\n",
            "Requirement already satisfied: tensorflow in /usr/local/lib/python3.10/dist-packages (2.12.0)\n",
            "Requirement already satisfied: absl-py>=1.0.0 in /usr/local/lib/python3.10/dist-packages (from tensorflow) (1.4.0)\n",
            "Requirement already satisfied: astunparse>=1.6.0 in /usr/local/lib/python3.10/dist-packages (from tensorflow) (1.6.3)\n",
            "Requirement already satisfied: flatbuffers>=2.0 in /usr/local/lib/python3.10/dist-packages (from tensorflow) (23.5.26)\n",
            "Requirement already satisfied: gast<=0.4.0,>=0.2.1 in /usr/local/lib/python3.10/dist-packages (from tensorflow) (0.4.0)\n",
            "Requirement already satisfied: google-pasta>=0.1.1 in /usr/local/lib/python3.10/dist-packages (from tensorflow) (0.2.0)\n",
            "Requirement already satisfied: grpcio<2.0,>=1.24.3 in /usr/local/lib/python3.10/dist-packages (from tensorflow) (1.56.2)\n",
            "Requirement already satisfied: h5py>=2.9.0 in /usr/local/lib/python3.10/dist-packages (from tensorflow) (3.8.0)\n",
            "Requirement already satisfied: jax>=0.3.15 in /usr/local/lib/python3.10/dist-packages (from tensorflow) (0.4.13)\n",
            "Requirement already satisfied: keras<2.13,>=2.12.0 in /usr/local/lib/python3.10/dist-packages (from tensorflow) (2.12.0)\n",
            "Requirement already satisfied: libclang>=13.0.0 in /usr/local/lib/python3.10/dist-packages (from tensorflow) (16.0.6)\n",
            "Requirement already satisfied: numpy<1.24,>=1.22 in /usr/local/lib/python3.10/dist-packages (from tensorflow) (1.22.4)\n",
            "Requirement already satisfied: opt-einsum>=2.3.2 in /usr/local/lib/python3.10/dist-packages (from tensorflow) (3.3.0)\n",
            "Requirement already satisfied: packaging in /usr/local/lib/python3.10/dist-packages (from tensorflow) (23.1)\n",
            "Requirement already satisfied: protobuf!=4.21.0,!=4.21.1,!=4.21.2,!=4.21.3,!=4.21.4,!=4.21.5,<5.0.0dev,>=3.20.3 in /usr/local/lib/python3.10/dist-packages (from tensorflow) (3.20.3)\n",
            "Requirement already satisfied: setuptools in /usr/local/lib/python3.10/dist-packages (from tensorflow) (67.7.2)\n",
            "Requirement already satisfied: six>=1.12.0 in /usr/local/lib/python3.10/dist-packages (from tensorflow) (1.16.0)\n",
            "Requirement already satisfied: tensorboard<2.13,>=2.12 in /usr/local/lib/python3.10/dist-packages (from tensorflow) (2.12.3)\n",
            "Requirement already satisfied: tensorflow-estimator<2.13,>=2.12.0 in /usr/local/lib/python3.10/dist-packages (from tensorflow) (2.12.0)\n",
            "Requirement already satisfied: termcolor>=1.1.0 in /usr/local/lib/python3.10/dist-packages (from tensorflow) (2.3.0)\n",
            "Requirement already satisfied: typing-extensions>=3.6.6 in /usr/local/lib/python3.10/dist-packages (from tensorflow) (4.7.1)\n",
            "Requirement already satisfied: wrapt<1.15,>=1.11.0 in /usr/local/lib/python3.10/dist-packages (from tensorflow) (1.14.1)\n",
            "Requirement already satisfied: tensorflow-io-gcs-filesystem>=0.23.1 in /usr/local/lib/python3.10/dist-packages (from tensorflow) (0.32.0)\n",
            "Requirement already satisfied: wheel<1.0,>=0.23.0 in /usr/local/lib/python3.10/dist-packages (from astunparse>=1.6.0->tensorflow) (0.41.0)\n",
            "Requirement already satisfied: ml-dtypes>=0.1.0 in /usr/local/lib/python3.10/dist-packages (from jax>=0.3.15->tensorflow) (0.2.0)\n",
            "Requirement already satisfied: scipy>=1.7 in /usr/local/lib/python3.10/dist-packages (from jax>=0.3.15->tensorflow) (1.10.1)\n",
            "Requirement already satisfied: google-auth<3,>=1.6.3 in /usr/local/lib/python3.10/dist-packages (from tensorboard<2.13,>=2.12->tensorflow) (2.17.3)\n",
            "Requirement already satisfied: google-auth-oauthlib<1.1,>=0.5 in /usr/local/lib/python3.10/dist-packages (from tensorboard<2.13,>=2.12->tensorflow) (1.0.0)\n",
            "Requirement already satisfied: markdown>=2.6.8 in /usr/local/lib/python3.10/dist-packages (from tensorboard<2.13,>=2.12->tensorflow) (3.4.4)\n",
            "Requirement already satisfied: requests<3,>=2.21.0 in /usr/local/lib/python3.10/dist-packages (from tensorboard<2.13,>=2.12->tensorflow) (2.27.1)\n",
            "Requirement already satisfied: tensorboard-data-server<0.8.0,>=0.7.0 in /usr/local/lib/python3.10/dist-packages (from tensorboard<2.13,>=2.12->tensorflow) (0.7.1)\n",
            "Requirement already satisfied: werkzeug>=1.0.1 in /usr/local/lib/python3.10/dist-packages (from tensorboard<2.13,>=2.12->tensorflow) (2.3.6)\n",
            "Requirement already satisfied: cachetools<6.0,>=2.0.0 in /usr/local/lib/python3.10/dist-packages (from google-auth<3,>=1.6.3->tensorboard<2.13,>=2.12->tensorflow) (5.3.1)\n",
            "Requirement already satisfied: pyasn1-modules>=0.2.1 in /usr/local/lib/python3.10/dist-packages (from google-auth<3,>=1.6.3->tensorboard<2.13,>=2.12->tensorflow) (0.3.0)\n",
            "Requirement already satisfied: rsa<5,>=3.1.4 in /usr/local/lib/python3.10/dist-packages (from google-auth<3,>=1.6.3->tensorboard<2.13,>=2.12->tensorflow) (4.9)\n",
            "Requirement already satisfied: requests-oauthlib>=0.7.0 in /usr/local/lib/python3.10/dist-packages (from google-auth-oauthlib<1.1,>=0.5->tensorboard<2.13,>=2.12->tensorflow) (1.3.1)\n",
            "Requirement already satisfied: urllib3<1.27,>=1.21.1 in /usr/local/lib/python3.10/dist-packages (from requests<3,>=2.21.0->tensorboard<2.13,>=2.12->tensorflow) (1.26.16)\n",
            "Requirement already satisfied: certifi>=2017.4.17 in /usr/local/lib/python3.10/dist-packages (from requests<3,>=2.21.0->tensorboard<2.13,>=2.12->tensorflow) (2023.7.22)\n",
            "Requirement already satisfied: charset-normalizer~=2.0.0 in /usr/local/lib/python3.10/dist-packages (from requests<3,>=2.21.0->tensorboard<2.13,>=2.12->tensorflow) (2.0.12)\n",
            "Requirement already satisfied: idna<4,>=2.5 in /usr/local/lib/python3.10/dist-packages (from requests<3,>=2.21.0->tensorboard<2.13,>=2.12->tensorflow) (3.4)\n",
            "Requirement already satisfied: MarkupSafe>=2.1.1 in /usr/local/lib/python3.10/dist-packages (from werkzeug>=1.0.1->tensorboard<2.13,>=2.12->tensorflow) (2.1.3)\n",
            "Requirement already satisfied: pyasn1<0.6.0,>=0.4.6 in /usr/local/lib/python3.10/dist-packages (from pyasn1-modules>=0.2.1->google-auth<3,>=1.6.3->tensorboard<2.13,>=2.12->tensorflow) (0.5.0)\n",
            "Requirement already satisfied: oauthlib>=3.0.0 in /usr/local/lib/python3.10/dist-packages (from requests-oauthlib>=0.7.0->google-auth-oauthlib<1.1,>=0.5->tensorboard<2.13,>=2.12->tensorflow) (3.2.2)\n",
            "Collecting sklearn\n",
            "  Downloading sklearn-0.0.post7.tar.gz (3.6 kB)\n",
            "  Preparing metadata (setup.py) ... \u001b[?25l\u001b[?25hdone\n",
            "Building wheels for collected packages: sklearn\n",
            "  Building wheel for sklearn (setup.py) ... \u001b[?25l\u001b[?25hdone\n",
            "  Created wheel for sklearn: filename=sklearn-0.0.post7-py3-none-any.whl size=2950 sha256=6df8d297e7c9f22fbb2897ad5b132e60a22f4fe3a672109625a7f68389d1f7a2\n",
            "  Stored in directory: /root/.cache/pip/wheels/c8/9c/85/72901eb50bc4bc6e3b2629378d172384ea3dfd19759c77fd2c\n",
            "Successfully built sklearn\n",
            "Installing collected packages: sklearn\n",
            "Successfully installed sklearn-0.0.post7\n",
            "Requirement already satisfied: matplotlib in /usr/local/lib/python3.10/dist-packages (3.7.1)\n",
            "Requirement already satisfied: contourpy>=1.0.1 in /usr/local/lib/python3.10/dist-packages (from matplotlib) (1.1.0)\n",
            "Requirement already satisfied: cycler>=0.10 in /usr/local/lib/python3.10/dist-packages (from matplotlib) (0.11.0)\n",
            "Requirement already satisfied: fonttools>=4.22.0 in /usr/local/lib/python3.10/dist-packages (from matplotlib) (4.41.1)\n",
            "Requirement already satisfied: kiwisolver>=1.0.1 in /usr/local/lib/python3.10/dist-packages (from matplotlib) (1.4.4)\n",
            "Requirement already satisfied: numpy>=1.20 in /usr/local/lib/python3.10/dist-packages (from matplotlib) (1.22.4)\n",
            "Requirement already satisfied: packaging>=20.0 in /usr/local/lib/python3.10/dist-packages (from matplotlib) (23.1)\n",
            "Requirement already satisfied: pillow>=6.2.0 in /usr/local/lib/python3.10/dist-packages (from matplotlib) (9.4.0)\n",
            "Requirement already satisfied: pyparsing>=2.3.1 in /usr/local/lib/python3.10/dist-packages (from matplotlib) (3.1.0)\n",
            "Requirement already satisfied: python-dateutil>=2.7 in /usr/local/lib/python3.10/dist-packages (from matplotlib) (2.8.2)\n",
            "Requirement already satisfied: six>=1.5 in /usr/local/lib/python3.10/dist-packages (from python-dateutil>=2.7->matplotlib) (1.16.0)\n",
            "Collecting comet_ml\n",
            "  Downloading comet_ml-3.33.7-py3-none-any.whl (557 kB)\n",
            "\u001b[2K     \u001b[90m━━━━━━━━━━━━━━━━━━━━━━━━━━━━━━━━━━━━━━━\u001b[0m \u001b[32m557.0/557.0 kB\u001b[0m \u001b[31m5.7 MB/s\u001b[0m eta \u001b[36m0:00:00\u001b[0m\n",
            "\u001b[?25hRequirement already satisfied: jsonschema!=3.1.0,>=2.6.0 in /usr/local/lib/python3.10/dist-packages (from comet_ml) (4.3.3)\n",
            "Requirement already satisfied: psutil>=5.6.3 in /usr/local/lib/python3.10/dist-packages (from comet_ml) (5.9.5)\n",
            "Collecting python-box<7.0.0 (from comet_ml)\n",
            "  Downloading python_box-6.1.0-cp310-cp310-manylinux_2_17_x86_64.manylinux2014_x86_64.whl (3.3 MB)\n",
            "\u001b[2K     \u001b[90m━━━━━━━━━━━━━━━━━━━━━━━━━━━━━━━━━━━━━━━━\u001b[0m \u001b[32m3.3/3.3 MB\u001b[0m \u001b[31m14.2 MB/s\u001b[0m eta \u001b[36m0:00:00\u001b[0m\n",
            "\u001b[?25hCollecting requests-toolbelt>=0.8.0 (from comet_ml)\n",
            "  Downloading requests_toolbelt-1.0.0-py2.py3-none-any.whl (54 kB)\n",
            "\u001b[2K     \u001b[90m━━━━━━━━━━━━━━━━━━━━━━━━━━━━━━━━━━━━━━━━\u001b[0m \u001b[32m54.5/54.5 kB\u001b[0m \u001b[31m6.6 MB/s\u001b[0m eta \u001b[36m0:00:00\u001b[0m\n",
            "\u001b[?25hRequirement already satisfied: requests>=2.18.4 in /usr/local/lib/python3.10/dist-packages (from comet_ml) (2.27.1)\n",
            "Collecting semantic-version>=2.8.0 (from comet_ml)\n",
            "  Downloading semantic_version-2.10.0-py2.py3-none-any.whl (15 kB)\n",
            "Collecting sentry-sdk>=1.1.0 (from comet_ml)\n",
            "  Downloading sentry_sdk-1.28.1-py2.py3-none-any.whl (214 kB)\n",
            "\u001b[2K     \u001b[90m━━━━━━━━━━━━━━━━━━━━━━━━━━━━━━━━━━━━━━\u001b[0m \u001b[32m214.7/214.7 kB\u001b[0m \u001b[31m22.8 MB/s\u001b[0m eta \u001b[36m0:00:00\u001b[0m\n",
            "\u001b[?25hCollecting simplejson (from comet_ml)\n",
            "  Downloading simplejson-3.19.1-cp310-cp310-manylinux_2_5_x86_64.manylinux1_x86_64.manylinux_2_17_x86_64.manylinux2014_x86_64.whl (137 kB)\n",
            "\u001b[2K     \u001b[90m━━━━━━━━━━━━━━━━━━━━━━━━━━━━━━━━━━━━━━\u001b[0m \u001b[32m137.9/137.9 kB\u001b[0m \u001b[31m14.8 MB/s\u001b[0m eta \u001b[36m0:00:00\u001b[0m\n",
            "\u001b[?25hRequirement already satisfied: six in /usr/local/lib/python3.10/dist-packages (from comet_ml) (1.16.0)\n",
            "Requirement already satisfied: urllib3>=1.21.1 in /usr/local/lib/python3.10/dist-packages (from comet_ml) (1.26.16)\n",
            "Collecting websocket-client<1.4.0,>=0.55.0 (from comet_ml)\n",
            "  Downloading websocket_client-1.3.3-py3-none-any.whl (54 kB)\n",
            "\u001b[2K     \u001b[90m━━━━━━━━━━━━━━━━━━━━━━━━━━━━━━━━━━━━━━━━\u001b[0m \u001b[32m54.3/54.3 kB\u001b[0m \u001b[31m6.6 MB/s\u001b[0m eta \u001b[36m0:00:00\u001b[0m\n",
            "\u001b[?25hRequirement already satisfied: wrapt>=1.11.2 in /usr/local/lib/python3.10/dist-packages (from comet_ml) (1.14.1)\n",
            "Collecting wurlitzer>=1.0.2 (from comet_ml)\n",
            "  Downloading wurlitzer-3.0.3-py3-none-any.whl (7.3 kB)\n",
            "Collecting everett[ini]<3.2.0,>=1.0.1 (from comet_ml)\n",
            "  Downloading everett-3.1.0-py2.py3-none-any.whl (35 kB)\n",
            "Collecting dulwich!=0.20.33,>=0.20.6 (from comet_ml)\n",
            "  Downloading dulwich-0.21.5-cp310-cp310-manylinux_2_17_x86_64.manylinux2014_x86_64.whl (510 kB)\n",
            "\u001b[2K     \u001b[90m━━━━━━━━━━━━━━━━━━━━━━━━━━━━━━━━━━━━━━\u001b[0m \u001b[32m510.1/510.1 kB\u001b[0m \u001b[31m24.4 MB/s\u001b[0m eta \u001b[36m0:00:00\u001b[0m\n",
            "\u001b[?25hRequirement already satisfied: rich>=13.3.2 in /usr/local/lib/python3.10/dist-packages (from comet_ml) (13.4.2)\n",
            "Collecting configobj (from everett[ini]<3.2.0,>=1.0.1->comet_ml)\n",
            "  Downloading configobj-5.0.8-py2.py3-none-any.whl (36 kB)\n",
            "Requirement already satisfied: attrs>=17.4.0 in /usr/local/lib/python3.10/dist-packages (from jsonschema!=3.1.0,>=2.6.0->comet_ml) (23.1.0)\n",
            "Requirement already satisfied: pyrsistent!=0.17.0,!=0.17.1,!=0.17.2,>=0.14.0 in /usr/local/lib/python3.10/dist-packages (from jsonschema!=3.1.0,>=2.6.0->comet_ml) (0.19.3)\n",
            "Requirement already satisfied: certifi>=2017.4.17 in /usr/local/lib/python3.10/dist-packages (from requests>=2.18.4->comet_ml) (2023.7.22)\n",
            "Requirement already satisfied: charset-normalizer~=2.0.0 in /usr/local/lib/python3.10/dist-packages (from requests>=2.18.4->comet_ml) (2.0.12)\n",
            "Requirement already satisfied: idna<4,>=2.5 in /usr/local/lib/python3.10/dist-packages (from requests>=2.18.4->comet_ml) (3.4)\n",
            "Requirement already satisfied: markdown-it-py>=2.2.0 in /usr/local/lib/python3.10/dist-packages (from rich>=13.3.2->comet_ml) (3.0.0)\n",
            "Requirement already satisfied: pygments<3.0.0,>=2.13.0 in /usr/local/lib/python3.10/dist-packages (from rich>=13.3.2->comet_ml) (2.14.0)\n",
            "Requirement already satisfied: mdurl~=0.1 in /usr/local/lib/python3.10/dist-packages (from markdown-it-py>=2.2.0->rich>=13.3.2->comet_ml) (0.1.2)\n",
            "Installing collected packages: everett, wurlitzer, websocket-client, simplejson, sentry-sdk, semantic-version, python-box, dulwich, configobj, requests-toolbelt, comet_ml\n",
            "  Attempting uninstall: websocket-client\n",
            "    Found existing installation: websocket-client 1.6.1\n",
            "    Uninstalling websocket-client-1.6.1:\n",
            "      Successfully uninstalled websocket-client-1.6.1\n",
            "Successfully installed comet_ml-3.33.7 configobj-5.0.8 dulwich-0.21.5 everett-3.1.0 python-box-6.1.0 requests-toolbelt-1.0.0 semantic-version-2.10.0 sentry-sdk-1.28.1 simplejson-3.19.1 websocket-client-1.3.3 wurlitzer-3.0.3\n"
          ]
        }
      ],
      "source": [
        "!pip install keras\n",
        "!pip install tensorflow\n",
        "#Install related libraries for the course.\n",
        "#This is a common requirement for all other exampels too\n",
        "\n",
        "!pip install pandas\n",
        "!pip install tensorflow\n",
        "!pip install sklearn\n",
        "!pip install matplotlib\n",
        "!pip install comet_ml"
      ]
    },
    {
      "cell_type": "code",
      "execution_count": 3,
      "metadata": {
        "colab": {
          "base_uri": "https://localhost:8080/"
        },
        "id": "09ipHINqxGA6",
        "outputId": "7053976a-b257-4d9c-f688-d182897f4991"
      },
      "outputs": [
        {
          "output_type": "stream",
          "name": "stderr",
          "text": [
            "\u001b[1;38;5;214mCOMET WARNING:\u001b[0m As you are running in a Jupyter environment, you will need to call `experiment.end()` when finished to ensure all metrics and code are logged before exiting.\n",
            "\u001b[1;38;5;39mCOMET INFO:\u001b[0m Couldn't find a Git repository in '/content' nor in any parent directory. Set `COMET_GIT_DIRECTORY` if your Git Repository is elsewhere.\n",
            "\u001b[1;38;5;39mCOMET INFO:\u001b[0m Experiment is live on comet.com https://www.comet.com/thevindus/dynamic-malware-analysis/682fa5ead23c456aa11d9087fe2aecc0\n",
            "\n"
          ]
        }
      ],
      "source": [
        "# import comet_ml at the top of your file\n",
        "from comet_ml import Experiment\n",
        "\n",
        "# Create an experiment with your api key\n",
        "experiment = Experiment(log_code=True,\n",
        "    api_key=\"KgERfs0s0QEiRrMhOJYwGn5pk\",\n",
        "    project_name=\"dynamic-malware-analysis\",\n",
        "    workspace=\"thevindus\",\n",
        ")"
      ]
    },
    {
      "cell_type": "code",
      "execution_count": 4,
      "metadata": {
        "id": "eGeEmvHD8J36"
      },
      "outputs": [],
      "source": [
        "%load_ext autoreload"
      ]
    },
    {
      "cell_type": "code",
      "execution_count": 5,
      "metadata": {
        "colab": {
          "base_uri": "https://localhost:8080/"
        },
        "id": "HO8FFj6f8co_",
        "outputId": "8de212c3-22b2-4546-af0a-8abe0f27ec9d"
      },
      "outputs": [
        {
          "output_type": "stream",
          "name": "stdout",
          "text": [
            "2.12.0\n"
          ]
        }
      ],
      "source": [
        "%autoreload 2\n",
        "#import autoreload\n",
        "#?autoreload\n",
        "\n",
        "\n",
        "import numpy as np\n",
        "import matplotlib.pyplot as plt\n",
        "import pandas as pd\n",
        "\n",
        "import pickle as pickle\n",
        "\n",
        "import random\n",
        "random.seed(42)\n",
        "\n",
        "\n",
        "from sklearn import preprocessing\n",
        "from sklearn.model_selection import train_test_split\n",
        "\n",
        "from sklearn.model_selection import cross_val_score\n",
        "\n",
        "from sklearn.metrics import classification_report\n",
        "import tensorflow as tf\n",
        "from tensorflow.keras.layers import Dense\n",
        "import tensorflow as tf\n",
        "print(tf.__version__)"
      ]
    },
    {
      "cell_type": "markdown",
      "metadata": {
        "id": "yeCbM_4g83g_"
      },
      "source": [
        "Loading Dataset"
      ]
    },
    {
      "cell_type": "code",
      "execution_count": 6,
      "metadata": {
        "id": "oqHKNSmm9A4l"
      },
      "outputs": [],
      "source": [
        "malware_API_data = pd.read_excel(\"/content/drive/MyDrive/LSTM3/malware_API_dataset.xlsx\", header = None, dtype= str)"
      ]
    },
    {
      "cell_type": "code",
      "execution_count": 7,
      "metadata": {
        "id": "vT5k7x3iSgbD"
      },
      "outputs": [],
      "source": [
        "dataset = pd.concat([malware_API_data], ignore_index=True)"
      ]
    },
    {
      "cell_type": "code",
      "execution_count": 8,
      "metadata": {
        "id": "rrDSIY6zJs9i"
      },
      "outputs": [],
      "source": [
        "from sklearn.utils import shuffle\n",
        "dataset = shuffle(dataset)\n"
      ]
    },
    {
      "cell_type": "code",
      "execution_count": 9,
      "metadata": {
        "colab": {
          "base_uri": "https://localhost:8080/",
          "height": 505
        },
        "id": "smHhcvpOU8tS",
        "outputId": "e9daf3c4-ed5b-485c-bc32-04c3985f9f66"
      },
      "outputs": [
        {
          "output_type": "execute_result",
          "data": {
            "text/plain": [
              "              0                                       1    \\\n",
              "16040      Trojan       UDS:DangerousObject.Multi.Generic   \n",
              "11877      Trojan           Trojan-FakeAV.Win32.Agent.dsl   \n",
              "14649  Trojan.PSW            Trojan-PSW.Win32.Tepfer.baft   \n",
              "15126      Trojan           Trojan-Ransom.Win32.Agent.hhk   \n",
              "12147      Trojan           Trojan-FakeAV.Win32.Agent.dvc   \n",
              "...           ...                                     ...   \n",
              "5664       AdWare  not-a-virus:AdWare.Win32.MegaSearch.am   \n",
              "8255       Trojan                    Packed.Win32.Krap.iu   \n",
              "8590       Trojan                 Trojan.Win32.Agentb.nii   \n",
              "11550      Trojan           Trojan-FakeAV.Win32.Agent.dnw   \n",
              "1100       Trojan               HEUR:Trojan.Win32.Generic   \n",
              "\n",
              "                                                     2    \\\n",
              "16040  1ecc5004eecac737824fa66b361fd95534ff8138dae864...   \n",
              "11877  e57876460ebd8b00e3fe159d78cb35876f9a41089c1a11...   \n",
              "14649  b39da71f54be10cbe0167c5ca4655831790c8f2d68eca5...   \n",
              "15126  e155fb4e1a7aacf9ef5424aead64dc7c8f83ddaa571514...   \n",
              "12147  12d614d530aedb595523e09538994f3acd162b9292f283...   \n",
              "...                                                  ...   \n",
              "5664   0dd3c4be20a22f2a0c1b7271266562ad83d17f659fc48b...   \n",
              "8255   7fbb1e8b5dd5e4766e8a2503ce8696319a83c4e41b1344...   \n",
              "8590   142f43a0dcb94f3eaf9dd772b7d32f4c276abb630631b3...   \n",
              "11550  bd3262c9147578dee23645f9bbdb43290d810a934effce...   \n",
              "1100   2d7589a857e46370554a53792bea1bdd58438e04cbe8aa...   \n",
              "\n",
              "                        3                4                        5    \\\n",
              "16040       GetThreadLocale        lstrcmpiW              GlobalAlloc   \n",
              "11877              lstrcpyW  GetThreadLocale                lstrcmpiW   \n",
              "14649              lstrcpyW  GetThreadLocale                lstrcmpiW   \n",
              "15126              lstrcpyW  GetThreadLocale                lstrcmpiW   \n",
              "12147              lstrcpyW  GetThreadLocale                lstrcmpiW   \n",
              "...                     ...              ...                      ...   \n",
              "5664    GetSystemDirectoryA    GetVersionExW           IsDBCSLeadByte   \n",
              "8255   GetWindowsDirectoryW   VirtualAllocEx                 lstrcatW   \n",
              "8590     GetModuleFileNameW   LoadLibraryExW           LoadLibraryExA   \n",
              "11550              lstrcpyW  GetThreadLocale                lstrcmpiW   \n",
              "1100        FindResourceExW     LoadResource  GetProcessWindowStation   \n",
              "\n",
              "                             6                          7    \\\n",
              "16040                 GlobalFree            FindResourceExW   \n",
              "11877                GlobalAlloc                 GlobalLock   \n",
              "14649                GlobalAlloc                 GlobalLock   \n",
              "15126                GlobalAlloc                 GlobalLock   \n",
              "12147                GlobalAlloc                 GlobalLock   \n",
              "...                          ...                        ...   \n",
              "5664              CompareStringW  DisableThreadLibraryCalls   \n",
              "8255                 CreateFileW             VirtualQueryEx   \n",
              "8590                LoadLibraryA            GetCommandLineA   \n",
              "11550                GlobalAlloc                 GlobalLock   \n",
              "1100   GetUserObjectInformationW                   lstrcpyW   \n",
              "\n",
              "                         8                 9    ...  588  589  590  591  592  \\\n",
              "16040           LoadResource       LoadStringW  ...  NaN  NaN  NaN  NaN  NaN   \n",
              "11877           GlobalUnlock     GlobalReAlloc  ...  NaN  NaN  NaN  NaN  NaN   \n",
              "14649           GlobalUnlock     GlobalReAlloc  ...  NaN  NaN  NaN  NaN  NaN   \n",
              "15126           GlobalUnlock     GlobalReAlloc  ...  NaN  NaN  NaN  NaN  NaN   \n",
              "12147           GlobalUnlock     GlobalReAlloc  ...  NaN  NaN  NaN  NaN  NaN   \n",
              "...                      ...               ...  ...  ...  ...  ...  ...  ...   \n",
              "5664           GetVersionExA  GetModuleHandleW  ...  NaN  NaN  NaN  NaN  NaN   \n",
              "8255         GetThreadLocale         lstrcmpiW  ...  NaN  NaN  NaN  NaN  NaN   \n",
              "8590   GetEnvironmentStrings        GetVersion  ...  NaN  NaN  NaN  NaN  NaN   \n",
              "11550           GlobalUnlock     GlobalReAlloc  ...  NaN  NaN  NaN  NaN  NaN   \n",
              "1100               CharPrevW         lstrcpynW  ...  NaN  NaN  NaN  NaN  NaN   \n",
              "\n",
              "       593  594  595  596  597  \n",
              "16040  NaN  NaN  NaN  NaN  NaN  \n",
              "11877  NaN  NaN  NaN  NaN  NaN  \n",
              "14649  NaN  NaN  NaN  NaN  NaN  \n",
              "15126  NaN  NaN  NaN  NaN  NaN  \n",
              "12147  NaN  NaN  NaN  NaN  NaN  \n",
              "...    ...  ...  ...  ...  ...  \n",
              "5664   NaN  NaN  NaN  NaN  NaN  \n",
              "8255   NaN  NaN  NaN  NaN  NaN  \n",
              "8590   NaN  NaN  NaN  NaN  NaN  \n",
              "11550  NaN  NaN  NaN  NaN  NaN  \n",
              "1100   NaN  NaN  NaN  NaN  NaN  \n",
              "\n",
              "[17275 rows x 598 columns]"
            ],
            "text/html": [
              "\n",
              "\n",
              "  <div id=\"df-ca1b9958-688c-4298-82e8-9deddbb1cb92\">\n",
              "    <div class=\"colab-df-container\">\n",
              "      <div>\n",
              "<style scoped>\n",
              "    .dataframe tbody tr th:only-of-type {\n",
              "        vertical-align: middle;\n",
              "    }\n",
              "\n",
              "    .dataframe tbody tr th {\n",
              "        vertical-align: top;\n",
              "    }\n",
              "\n",
              "    .dataframe thead th {\n",
              "        text-align: right;\n",
              "    }\n",
              "</style>\n",
              "<table border=\"1\" class=\"dataframe\">\n",
              "  <thead>\n",
              "    <tr style=\"text-align: right;\">\n",
              "      <th></th>\n",
              "      <th>0</th>\n",
              "      <th>1</th>\n",
              "      <th>2</th>\n",
              "      <th>3</th>\n",
              "      <th>4</th>\n",
              "      <th>5</th>\n",
              "      <th>6</th>\n",
              "      <th>7</th>\n",
              "      <th>8</th>\n",
              "      <th>9</th>\n",
              "      <th>...</th>\n",
              "      <th>588</th>\n",
              "      <th>589</th>\n",
              "      <th>590</th>\n",
              "      <th>591</th>\n",
              "      <th>592</th>\n",
              "      <th>593</th>\n",
              "      <th>594</th>\n",
              "      <th>595</th>\n",
              "      <th>596</th>\n",
              "      <th>597</th>\n",
              "    </tr>\n",
              "  </thead>\n",
              "  <tbody>\n",
              "    <tr>\n",
              "      <th>16040</th>\n",
              "      <td>Trojan</td>\n",
              "      <td>UDS:DangerousObject.Multi.Generic</td>\n",
              "      <td>1ecc5004eecac737824fa66b361fd95534ff8138dae864...</td>\n",
              "      <td>GetThreadLocale</td>\n",
              "      <td>lstrcmpiW</td>\n",
              "      <td>GlobalAlloc</td>\n",
              "      <td>GlobalFree</td>\n",
              "      <td>FindResourceExW</td>\n",
              "      <td>LoadResource</td>\n",
              "      <td>LoadStringW</td>\n",
              "      <td>...</td>\n",
              "      <td>NaN</td>\n",
              "      <td>NaN</td>\n",
              "      <td>NaN</td>\n",
              "      <td>NaN</td>\n",
              "      <td>NaN</td>\n",
              "      <td>NaN</td>\n",
              "      <td>NaN</td>\n",
              "      <td>NaN</td>\n",
              "      <td>NaN</td>\n",
              "      <td>NaN</td>\n",
              "    </tr>\n",
              "    <tr>\n",
              "      <th>11877</th>\n",
              "      <td>Trojan</td>\n",
              "      <td>Trojan-FakeAV.Win32.Agent.dsl</td>\n",
              "      <td>e57876460ebd8b00e3fe159d78cb35876f9a41089c1a11...</td>\n",
              "      <td>lstrcpyW</td>\n",
              "      <td>GetThreadLocale</td>\n",
              "      <td>lstrcmpiW</td>\n",
              "      <td>GlobalAlloc</td>\n",
              "      <td>GlobalLock</td>\n",
              "      <td>GlobalUnlock</td>\n",
              "      <td>GlobalReAlloc</td>\n",
              "      <td>...</td>\n",
              "      <td>NaN</td>\n",
              "      <td>NaN</td>\n",
              "      <td>NaN</td>\n",
              "      <td>NaN</td>\n",
              "      <td>NaN</td>\n",
              "      <td>NaN</td>\n",
              "      <td>NaN</td>\n",
              "      <td>NaN</td>\n",
              "      <td>NaN</td>\n",
              "      <td>NaN</td>\n",
              "    </tr>\n",
              "    <tr>\n",
              "      <th>14649</th>\n",
              "      <td>Trojan.PSW</td>\n",
              "      <td>Trojan-PSW.Win32.Tepfer.baft</td>\n",
              "      <td>b39da71f54be10cbe0167c5ca4655831790c8f2d68eca5...</td>\n",
              "      <td>lstrcpyW</td>\n",
              "      <td>GetThreadLocale</td>\n",
              "      <td>lstrcmpiW</td>\n",
              "      <td>GlobalAlloc</td>\n",
              "      <td>GlobalLock</td>\n",
              "      <td>GlobalUnlock</td>\n",
              "      <td>GlobalReAlloc</td>\n",
              "      <td>...</td>\n",
              "      <td>NaN</td>\n",
              "      <td>NaN</td>\n",
              "      <td>NaN</td>\n",
              "      <td>NaN</td>\n",
              "      <td>NaN</td>\n",
              "      <td>NaN</td>\n",
              "      <td>NaN</td>\n",
              "      <td>NaN</td>\n",
              "      <td>NaN</td>\n",
              "      <td>NaN</td>\n",
              "    </tr>\n",
              "    <tr>\n",
              "      <th>15126</th>\n",
              "      <td>Trojan</td>\n",
              "      <td>Trojan-Ransom.Win32.Agent.hhk</td>\n",
              "      <td>e155fb4e1a7aacf9ef5424aead64dc7c8f83ddaa571514...</td>\n",
              "      <td>lstrcpyW</td>\n",
              "      <td>GetThreadLocale</td>\n",
              "      <td>lstrcmpiW</td>\n",
              "      <td>GlobalAlloc</td>\n",
              "      <td>GlobalLock</td>\n",
              "      <td>GlobalUnlock</td>\n",
              "      <td>GlobalReAlloc</td>\n",
              "      <td>...</td>\n",
              "      <td>NaN</td>\n",
              "      <td>NaN</td>\n",
              "      <td>NaN</td>\n",
              "      <td>NaN</td>\n",
              "      <td>NaN</td>\n",
              "      <td>NaN</td>\n",
              "      <td>NaN</td>\n",
              "      <td>NaN</td>\n",
              "      <td>NaN</td>\n",
              "      <td>NaN</td>\n",
              "    </tr>\n",
              "    <tr>\n",
              "      <th>12147</th>\n",
              "      <td>Trojan</td>\n",
              "      <td>Trojan-FakeAV.Win32.Agent.dvc</td>\n",
              "      <td>12d614d530aedb595523e09538994f3acd162b9292f283...</td>\n",
              "      <td>lstrcpyW</td>\n",
              "      <td>GetThreadLocale</td>\n",
              "      <td>lstrcmpiW</td>\n",
              "      <td>GlobalAlloc</td>\n",
              "      <td>GlobalLock</td>\n",
              "      <td>GlobalUnlock</td>\n",
              "      <td>GlobalReAlloc</td>\n",
              "      <td>...</td>\n",
              "      <td>NaN</td>\n",
              "      <td>NaN</td>\n",
              "      <td>NaN</td>\n",
              "      <td>NaN</td>\n",
              "      <td>NaN</td>\n",
              "      <td>NaN</td>\n",
              "      <td>NaN</td>\n",
              "      <td>NaN</td>\n",
              "      <td>NaN</td>\n",
              "      <td>NaN</td>\n",
              "    </tr>\n",
              "    <tr>\n",
              "      <th>...</th>\n",
              "      <td>...</td>\n",
              "      <td>...</td>\n",
              "      <td>...</td>\n",
              "      <td>...</td>\n",
              "      <td>...</td>\n",
              "      <td>...</td>\n",
              "      <td>...</td>\n",
              "      <td>...</td>\n",
              "      <td>...</td>\n",
              "      <td>...</td>\n",
              "      <td>...</td>\n",
              "      <td>...</td>\n",
              "      <td>...</td>\n",
              "      <td>...</td>\n",
              "      <td>...</td>\n",
              "      <td>...</td>\n",
              "      <td>...</td>\n",
              "      <td>...</td>\n",
              "      <td>...</td>\n",
              "      <td>...</td>\n",
              "      <td>...</td>\n",
              "    </tr>\n",
              "    <tr>\n",
              "      <th>5664</th>\n",
              "      <td>AdWare</td>\n",
              "      <td>not-a-virus:AdWare.Win32.MegaSearch.am</td>\n",
              "      <td>0dd3c4be20a22f2a0c1b7271266562ad83d17f659fc48b...</td>\n",
              "      <td>GetSystemDirectoryA</td>\n",
              "      <td>GetVersionExW</td>\n",
              "      <td>IsDBCSLeadByte</td>\n",
              "      <td>CompareStringW</td>\n",
              "      <td>DisableThreadLibraryCalls</td>\n",
              "      <td>GetVersionExA</td>\n",
              "      <td>GetModuleHandleW</td>\n",
              "      <td>...</td>\n",
              "      <td>NaN</td>\n",
              "      <td>NaN</td>\n",
              "      <td>NaN</td>\n",
              "      <td>NaN</td>\n",
              "      <td>NaN</td>\n",
              "      <td>NaN</td>\n",
              "      <td>NaN</td>\n",
              "      <td>NaN</td>\n",
              "      <td>NaN</td>\n",
              "      <td>NaN</td>\n",
              "    </tr>\n",
              "    <tr>\n",
              "      <th>8255</th>\n",
              "      <td>Trojan</td>\n",
              "      <td>Packed.Win32.Krap.iu</td>\n",
              "      <td>7fbb1e8b5dd5e4766e8a2503ce8696319a83c4e41b1344...</td>\n",
              "      <td>GetWindowsDirectoryW</td>\n",
              "      <td>VirtualAllocEx</td>\n",
              "      <td>lstrcatW</td>\n",
              "      <td>CreateFileW</td>\n",
              "      <td>VirtualQueryEx</td>\n",
              "      <td>GetThreadLocale</td>\n",
              "      <td>lstrcmpiW</td>\n",
              "      <td>...</td>\n",
              "      <td>NaN</td>\n",
              "      <td>NaN</td>\n",
              "      <td>NaN</td>\n",
              "      <td>NaN</td>\n",
              "      <td>NaN</td>\n",
              "      <td>NaN</td>\n",
              "      <td>NaN</td>\n",
              "      <td>NaN</td>\n",
              "      <td>NaN</td>\n",
              "      <td>NaN</td>\n",
              "    </tr>\n",
              "    <tr>\n",
              "      <th>8590</th>\n",
              "      <td>Trojan</td>\n",
              "      <td>Trojan.Win32.Agentb.nii</td>\n",
              "      <td>142f43a0dcb94f3eaf9dd772b7d32f4c276abb630631b3...</td>\n",
              "      <td>GetModuleFileNameW</td>\n",
              "      <td>LoadLibraryExW</td>\n",
              "      <td>LoadLibraryExA</td>\n",
              "      <td>LoadLibraryA</td>\n",
              "      <td>GetCommandLineA</td>\n",
              "      <td>GetEnvironmentStrings</td>\n",
              "      <td>GetVersion</td>\n",
              "      <td>...</td>\n",
              "      <td>NaN</td>\n",
              "      <td>NaN</td>\n",
              "      <td>NaN</td>\n",
              "      <td>NaN</td>\n",
              "      <td>NaN</td>\n",
              "      <td>NaN</td>\n",
              "      <td>NaN</td>\n",
              "      <td>NaN</td>\n",
              "      <td>NaN</td>\n",
              "      <td>NaN</td>\n",
              "    </tr>\n",
              "    <tr>\n",
              "      <th>11550</th>\n",
              "      <td>Trojan</td>\n",
              "      <td>Trojan-FakeAV.Win32.Agent.dnw</td>\n",
              "      <td>bd3262c9147578dee23645f9bbdb43290d810a934effce...</td>\n",
              "      <td>lstrcpyW</td>\n",
              "      <td>GetThreadLocale</td>\n",
              "      <td>lstrcmpiW</td>\n",
              "      <td>GlobalAlloc</td>\n",
              "      <td>GlobalLock</td>\n",
              "      <td>GlobalUnlock</td>\n",
              "      <td>GlobalReAlloc</td>\n",
              "      <td>...</td>\n",
              "      <td>NaN</td>\n",
              "      <td>NaN</td>\n",
              "      <td>NaN</td>\n",
              "      <td>NaN</td>\n",
              "      <td>NaN</td>\n",
              "      <td>NaN</td>\n",
              "      <td>NaN</td>\n",
              "      <td>NaN</td>\n",
              "      <td>NaN</td>\n",
              "      <td>NaN</td>\n",
              "    </tr>\n",
              "    <tr>\n",
              "      <th>1100</th>\n",
              "      <td>Trojan</td>\n",
              "      <td>HEUR:Trojan.Win32.Generic</td>\n",
              "      <td>2d7589a857e46370554a53792bea1bdd58438e04cbe8aa...</td>\n",
              "      <td>FindResourceExW</td>\n",
              "      <td>LoadResource</td>\n",
              "      <td>GetProcessWindowStation</td>\n",
              "      <td>GetUserObjectInformationW</td>\n",
              "      <td>lstrcpyW</td>\n",
              "      <td>CharPrevW</td>\n",
              "      <td>lstrcpynW</td>\n",
              "      <td>...</td>\n",
              "      <td>NaN</td>\n",
              "      <td>NaN</td>\n",
              "      <td>NaN</td>\n",
              "      <td>NaN</td>\n",
              "      <td>NaN</td>\n",
              "      <td>NaN</td>\n",
              "      <td>NaN</td>\n",
              "      <td>NaN</td>\n",
              "      <td>NaN</td>\n",
              "      <td>NaN</td>\n",
              "    </tr>\n",
              "  </tbody>\n",
              "</table>\n",
              "<p>17275 rows × 598 columns</p>\n",
              "</div>\n",
              "      <button class=\"colab-df-convert\" onclick=\"convertToInteractive('df-ca1b9958-688c-4298-82e8-9deddbb1cb92')\"\n",
              "              title=\"Convert this dataframe to an interactive table.\"\n",
              "              style=\"display:none;\">\n",
              "\n",
              "  <svg xmlns=\"http://www.w3.org/2000/svg\" height=\"24px\"viewBox=\"0 0 24 24\"\n",
              "       width=\"24px\">\n",
              "    <path d=\"M0 0h24v24H0V0z\" fill=\"none\"/>\n",
              "    <path d=\"M18.56 5.44l.94 2.06.94-2.06 2.06-.94-2.06-.94-.94-2.06-.94 2.06-2.06.94zm-11 1L8.5 8.5l.94-2.06 2.06-.94-2.06-.94L8.5 2.5l-.94 2.06-2.06.94zm10 10l.94 2.06.94-2.06 2.06-.94-2.06-.94-.94-2.06-.94 2.06-2.06.94z\"/><path d=\"M17.41 7.96l-1.37-1.37c-.4-.4-.92-.59-1.43-.59-.52 0-1.04.2-1.43.59L10.3 9.45l-7.72 7.72c-.78.78-.78 2.05 0 2.83L4 21.41c.39.39.9.59 1.41.59.51 0 1.02-.2 1.41-.59l7.78-7.78 2.81-2.81c.8-.78.8-2.07 0-2.86zM5.41 20L4 18.59l7.72-7.72 1.47 1.35L5.41 20z\"/>\n",
              "  </svg>\n",
              "      </button>\n",
              "\n",
              "\n",
              "\n",
              "    <div id=\"df-30efefc7-c595-45c8-b632-9eeb188cc791\">\n",
              "      <button class=\"colab-df-quickchart\" onclick=\"quickchart('df-30efefc7-c595-45c8-b632-9eeb188cc791')\"\n",
              "              title=\"Suggest charts.\"\n",
              "              style=\"display:none;\">\n",
              "\n",
              "<svg xmlns=\"http://www.w3.org/2000/svg\" height=\"24px\"viewBox=\"0 0 24 24\"\n",
              "     width=\"24px\">\n",
              "    <g>\n",
              "        <path d=\"M19 3H5c-1.1 0-2 .9-2 2v14c0 1.1.9 2 2 2h14c1.1 0 2-.9 2-2V5c0-1.1-.9-2-2-2zM9 17H7v-7h2v7zm4 0h-2V7h2v10zm4 0h-2v-4h2v4z\"/>\n",
              "    </g>\n",
              "</svg>\n",
              "      </button>\n",
              "    </div>\n",
              "\n",
              "<style>\n",
              "  .colab-df-quickchart {\n",
              "    background-color: #E8F0FE;\n",
              "    border: none;\n",
              "    border-radius: 50%;\n",
              "    cursor: pointer;\n",
              "    display: none;\n",
              "    fill: #1967D2;\n",
              "    height: 32px;\n",
              "    padding: 0 0 0 0;\n",
              "    width: 32px;\n",
              "  }\n",
              "\n",
              "  .colab-df-quickchart:hover {\n",
              "    background-color: #E2EBFA;\n",
              "    box-shadow: 0px 1px 2px rgba(60, 64, 67, 0.3), 0px 1px 3px 1px rgba(60, 64, 67, 0.15);\n",
              "    fill: #174EA6;\n",
              "  }\n",
              "\n",
              "  [theme=dark] .colab-df-quickchart {\n",
              "    background-color: #3B4455;\n",
              "    fill: #D2E3FC;\n",
              "  }\n",
              "\n",
              "  [theme=dark] .colab-df-quickchart:hover {\n",
              "    background-color: #434B5C;\n",
              "    box-shadow: 0px 1px 3px 1px rgba(0, 0, 0, 0.15);\n",
              "    filter: drop-shadow(0px 1px 2px rgba(0, 0, 0, 0.3));\n",
              "    fill: #FFFFFF;\n",
              "  }\n",
              "</style>\n",
              "\n",
              "    <script>\n",
              "      async function quickchart(key) {\n",
              "        const containerElement = document.querySelector('#' + key);\n",
              "        const charts = await google.colab.kernel.invokeFunction(\n",
              "            'suggestCharts', [key], {});\n",
              "      }\n",
              "    </script>\n",
              "\n",
              "      <script>\n",
              "\n",
              "function displayQuickchartButton(domScope) {\n",
              "  let quickchartButtonEl =\n",
              "    domScope.querySelector('#df-30efefc7-c595-45c8-b632-9eeb188cc791 button.colab-df-quickchart');\n",
              "  quickchartButtonEl.style.display =\n",
              "    google.colab.kernel.accessAllowed ? 'block' : 'none';\n",
              "}\n",
              "\n",
              "        displayQuickchartButton(document);\n",
              "      </script>\n",
              "      <style>\n",
              "    .colab-df-container {\n",
              "      display:flex;\n",
              "      flex-wrap:wrap;\n",
              "      gap: 12px;\n",
              "    }\n",
              "\n",
              "    .colab-df-convert {\n",
              "      background-color: #E8F0FE;\n",
              "      border: none;\n",
              "      border-radius: 50%;\n",
              "      cursor: pointer;\n",
              "      display: none;\n",
              "      fill: #1967D2;\n",
              "      height: 32px;\n",
              "      padding: 0 0 0 0;\n",
              "      width: 32px;\n",
              "    }\n",
              "\n",
              "    .colab-df-convert:hover {\n",
              "      background-color: #E2EBFA;\n",
              "      box-shadow: 0px 1px 2px rgba(60, 64, 67, 0.3), 0px 1px 3px 1px rgba(60, 64, 67, 0.15);\n",
              "      fill: #174EA6;\n",
              "    }\n",
              "\n",
              "    [theme=dark] .colab-df-convert {\n",
              "      background-color: #3B4455;\n",
              "      fill: #D2E3FC;\n",
              "    }\n",
              "\n",
              "    [theme=dark] .colab-df-convert:hover {\n",
              "      background-color: #434B5C;\n",
              "      box-shadow: 0px 1px 3px 1px rgba(0, 0, 0, 0.15);\n",
              "      filter: drop-shadow(0px 1px 2px rgba(0, 0, 0, 0.3));\n",
              "      fill: #FFFFFF;\n",
              "    }\n",
              "  </style>\n",
              "\n",
              "      <script>\n",
              "        const buttonEl =\n",
              "          document.querySelector('#df-ca1b9958-688c-4298-82e8-9deddbb1cb92 button.colab-df-convert');\n",
              "        buttonEl.style.display =\n",
              "          google.colab.kernel.accessAllowed ? 'block' : 'none';\n",
              "\n",
              "        async function convertToInteractive(key) {\n",
              "          const element = document.querySelector('#df-ca1b9958-688c-4298-82e8-9deddbb1cb92');\n",
              "          const dataTable =\n",
              "            await google.colab.kernel.invokeFunction('convertToInteractive',\n",
              "                                                     [key], {});\n",
              "          if (!dataTable) return;\n",
              "\n",
              "          const docLinkHtml = 'Like what you see? Visit the ' +\n",
              "            '<a target=\"_blank\" href=https://colab.research.google.com/notebooks/data_table.ipynb>data table notebook</a>'\n",
              "            + ' to learn more about interactive tables.';\n",
              "          element.innerHTML = '';\n",
              "          dataTable['output_type'] = 'display_data';\n",
              "          await google.colab.output.renderOutput(dataTable, element);\n",
              "          const docLink = document.createElement('div');\n",
              "          docLink.innerHTML = docLinkHtml;\n",
              "          element.appendChild(docLink);\n",
              "        }\n",
              "      </script>\n",
              "    </div>\n",
              "  </div>\n"
            ]
          },
          "metadata": {},
          "execution_count": 9
        }
      ],
      "source": [
        "dataset"
      ]
    },
    {
      "cell_type": "code",
      "execution_count": 10,
      "metadata": {
        "colab": {
          "base_uri": "https://localhost:8080/"
        },
        "id": "NQmQ2-HbZuFa",
        "outputId": "f9a6e9c0-95ea-4283-a23c-03267a7ea31b"
      },
      "outputs": [
        {
          "output_type": "stream",
          "name": "stdout",
          "text": [
            "              0                                       1    \\\n",
            "16040      Trojan       UDS:DangerousObject.Multi.Generic   \n",
            "11877      Trojan           Trojan-FakeAV.Win32.Agent.dsl   \n",
            "14649  Trojan.PSW            Trojan-PSW.Win32.Tepfer.baft   \n",
            "15126      Trojan           Trojan-Ransom.Win32.Agent.hhk   \n",
            "12147      Trojan           Trojan-FakeAV.Win32.Agent.dvc   \n",
            "...           ...                                     ...   \n",
            "5664       AdWare  not-a-virus:AdWare.Win32.MegaSearch.am   \n",
            "8255       Trojan                    Packed.Win32.Krap.iu   \n",
            "8590       Trojan                 Trojan.Win32.Agentb.nii   \n",
            "11550      Trojan           Trojan-FakeAV.Win32.Agent.dnw   \n",
            "1100       Trojan               HEUR:Trojan.Win32.Generic   \n",
            "\n",
            "                                                     2    \\\n",
            "16040  1ecc5004eecac737824fa66b361fd95534ff8138dae864...   \n",
            "11877  e57876460ebd8b00e3fe159d78cb35876f9a41089c1a11...   \n",
            "14649  b39da71f54be10cbe0167c5ca4655831790c8f2d68eca5...   \n",
            "15126  e155fb4e1a7aacf9ef5424aead64dc7c8f83ddaa571514...   \n",
            "12147  12d614d530aedb595523e09538994f3acd162b9292f283...   \n",
            "...                                                  ...   \n",
            "5664   0dd3c4be20a22f2a0c1b7271266562ad83d17f659fc48b...   \n",
            "8255   7fbb1e8b5dd5e4766e8a2503ce8696319a83c4e41b1344...   \n",
            "8590   142f43a0dcb94f3eaf9dd772b7d32f4c276abb630631b3...   \n",
            "11550  bd3262c9147578dee23645f9bbdb43290d810a934effce...   \n",
            "1100   2d7589a857e46370554a53792bea1bdd58438e04cbe8aa...   \n",
            "\n",
            "                        3                4                        5    \\\n",
            "16040       GetThreadLocale        lstrcmpiW              GlobalAlloc   \n",
            "11877              lstrcpyW  GetThreadLocale                lstrcmpiW   \n",
            "14649              lstrcpyW  GetThreadLocale                lstrcmpiW   \n",
            "15126              lstrcpyW  GetThreadLocale                lstrcmpiW   \n",
            "12147              lstrcpyW  GetThreadLocale                lstrcmpiW   \n",
            "...                     ...              ...                      ...   \n",
            "5664    GetSystemDirectoryA    GetVersionExW           IsDBCSLeadByte   \n",
            "8255   GetWindowsDirectoryW   VirtualAllocEx                 lstrcatW   \n",
            "8590     GetModuleFileNameW   LoadLibraryExW           LoadLibraryExA   \n",
            "11550              lstrcpyW  GetThreadLocale                lstrcmpiW   \n",
            "1100        FindResourceExW     LoadResource  GetProcessWindowStation   \n",
            "\n",
            "                             6                          7    \\\n",
            "16040                 GlobalFree            FindResourceExW   \n",
            "11877                GlobalAlloc                 GlobalLock   \n",
            "14649                GlobalAlloc                 GlobalLock   \n",
            "15126                GlobalAlloc                 GlobalLock   \n",
            "12147                GlobalAlloc                 GlobalLock   \n",
            "...                          ...                        ...   \n",
            "5664              CompareStringW  DisableThreadLibraryCalls   \n",
            "8255                 CreateFileW             VirtualQueryEx   \n",
            "8590                LoadLibraryA            GetCommandLineA   \n",
            "11550                GlobalAlloc                 GlobalLock   \n",
            "1100   GetUserObjectInformationW                   lstrcpyW   \n",
            "\n",
            "                         8                 9    ...  588  589  590  591  592  \\\n",
            "16040           LoadResource       LoadStringW  ...  NaN  NaN  NaN  NaN  NaN   \n",
            "11877           GlobalUnlock     GlobalReAlloc  ...  NaN  NaN  NaN  NaN  NaN   \n",
            "14649           GlobalUnlock     GlobalReAlloc  ...  NaN  NaN  NaN  NaN  NaN   \n",
            "15126           GlobalUnlock     GlobalReAlloc  ...  NaN  NaN  NaN  NaN  NaN   \n",
            "12147           GlobalUnlock     GlobalReAlloc  ...  NaN  NaN  NaN  NaN  NaN   \n",
            "...                      ...               ...  ...  ...  ...  ...  ...  ...   \n",
            "5664           GetVersionExA  GetModuleHandleW  ...  NaN  NaN  NaN  NaN  NaN   \n",
            "8255         GetThreadLocale         lstrcmpiW  ...  NaN  NaN  NaN  NaN  NaN   \n",
            "8590   GetEnvironmentStrings        GetVersion  ...  NaN  NaN  NaN  NaN  NaN   \n",
            "11550           GlobalUnlock     GlobalReAlloc  ...  NaN  NaN  NaN  NaN  NaN   \n",
            "1100               CharPrevW         lstrcpynW  ...  NaN  NaN  NaN  NaN  NaN   \n",
            "\n",
            "       593  594  595  596  597  \n",
            "16040  NaN  NaN  NaN  NaN  NaN  \n",
            "11877  NaN  NaN  NaN  NaN  NaN  \n",
            "14649  NaN  NaN  NaN  NaN  NaN  \n",
            "15126  NaN  NaN  NaN  NaN  NaN  \n",
            "12147  NaN  NaN  NaN  NaN  NaN  \n",
            "...    ...  ...  ...  ...  ...  \n",
            "5664   NaN  NaN  NaN  NaN  NaN  \n",
            "8255   NaN  NaN  NaN  NaN  NaN  \n",
            "8590   NaN  NaN  NaN  NaN  NaN  \n",
            "11550  NaN  NaN  NaN  NaN  NaN  \n",
            "1100   NaN  NaN  NaN  NaN  NaN  \n",
            "\n",
            "[17275 rows x 598 columns]\n"
          ]
        }
      ],
      "source": [
        "print(dataset)"
      ]
    },
    {
      "cell_type": "code",
      "execution_count": 11,
      "metadata": {
        "colab": {
          "base_uri": "https://localhost:8080/"
        },
        "id": "Vv84MyMbiA6f",
        "outputId": "0ead2822-c9b1-4dae-d1e1-64b85556f2f4"
      },
      "outputs": [
        {
          "output_type": "execute_result",
          "data": {
            "text/plain": [
              "array([['GetThreadLocale', 'lstrcmpiW', 'GlobalAlloc', ..., nan, nan,\n",
              "        nan],\n",
              "       ['lstrcpyW', 'GetThreadLocale', 'lstrcmpiW', ..., nan, nan, nan],\n",
              "       ['lstrcpyW', 'GetThreadLocale', 'lstrcmpiW', ..., nan, nan, nan],\n",
              "       ...,\n",
              "       ['GetModuleFileNameW', 'LoadLibraryExW', 'LoadLibraryExA', ...,\n",
              "        nan, nan, nan],\n",
              "       ['lstrcpyW', 'GetThreadLocale', 'lstrcmpiW', ..., nan, nan, nan],\n",
              "       ['FindResourceExW', 'LoadResource', 'GetProcessWindowStation',\n",
              "        ..., nan, nan, nan]], dtype=object)"
            ]
          },
          "metadata": {},
          "execution_count": 11
        }
      ],
      "source": [
        "dataset_X = dataset.values[:,3:598]\n",
        "dataset_X"
      ]
    },
    {
      "cell_type": "code",
      "execution_count": 12,
      "metadata": {
        "colab": {
          "base_uri": "https://localhost:8080/"
        },
        "id": "E1qh8OariEiV",
        "outputId": "51c6db51-63d5-4959-af07-31565086a80c"
      },
      "outputs": [
        {
          "output_type": "execute_result",
          "data": {
            "text/plain": [
              "array(['Trojan', 'Trojan', 'Trojan.PSW', ..., 'Trojan', 'Trojan',\n",
              "       'Trojan'], dtype=object)"
            ]
          },
          "metadata": {},
          "execution_count": 12
        }
      ],
      "source": [
        "dataset_Y = dataset.values[:,0]\n",
        "dataset_Y\n",
        "#dataset.values[5000,0]"
      ]
    },
    {
      "cell_type": "markdown",
      "metadata": {
        "id": "szGXDsWHjB6Y"
      },
      "source": [
        "Preprocessing data"
      ]
    },
    {
      "cell_type": "code",
      "execution_count": 13,
      "metadata": {
        "colab": {
          "base_uri": "https://localhost:8080/"
        },
        "id": "7hz-8UQxi8yn",
        "outputId": "73238559-088d-4530-b3b7-a8d6a7392395"
      },
      "outputs": [
        {
          "output_type": "execute_result",
          "data": {
            "text/plain": [
              "array([[ 58, 142,  90, ...,  25,  15,  10],\n",
              "       [125,  76, 149, ...,  25,  15,  10],\n",
              "       [125,  76, 149, ...,  25,  15,  10],\n",
              "       ...,\n",
              "       [ 41, 104, 103, ...,  25,  15,  10],\n",
              "       [125,  76, 149, ...,  25,  15,  10],\n",
              "       [ 18, 105,  65, ...,  25,  15,  10]])"
            ]
          },
          "metadata": {},
          "execution_count": 13
        }
      ],
      "source": [
        "le = preprocessing.LabelEncoder()\n",
        "\n",
        "dataset_X_pandas = pd.DataFrame(dataset_X,dtype=str)\n",
        "dataset_X_pandas.apply(le.fit_transform)\n",
        "\n",
        "dataset_X = dataset_X_pandas.apply(le.fit_transform).values[:,:]\n",
        "dataset_X"
      ]
    },
    {
      "cell_type": "code",
      "execution_count": 14,
      "metadata": {
        "colab": {
          "base_uri": "https://localhost:8080/"
        },
        "id": "HTH3JAE0jQzx",
        "outputId": "927fefb7-dfc7-4b6c-9ce6-cb8eff09b642"
      },
      "outputs": [
        {
          "output_type": "execute_result",
          "data": {
            "text/plain": [
              "array([[6],\n",
              "       [6],\n",
              "       [7],\n",
              "       ...,\n",
              "       [6],\n",
              "       [6],\n",
              "       [6]])"
            ]
          },
          "metadata": {},
          "execution_count": 14
        }
      ],
      "source": [
        "le = preprocessing.LabelEncoder()\n",
        "\n",
        "dataset_Y_pandas = pd.DataFrame(dataset_Y,dtype=str)\n",
        "dataset_Y_pandas.apply(le.fit_transform)\n",
        "\n",
        "dataset_Y = dataset_Y_pandas.apply(le.fit_transform).values[:,:]\n",
        "\n",
        "dataset_Y"
      ]
    },
    {
      "cell_type": "code",
      "execution_count": 15,
      "metadata": {
        "id": "jdB7igWJk2hT"
      },
      "outputs": [],
      "source": [
        "X_train, X_test, Y_train, Y_test = train_test_split(dataset_X, dataset_Y, test_size=0.5, random_state=42)"
      ]
    },
    {
      "cell_type": "code",
      "execution_count": 16,
      "metadata": {
        "colab": {
          "base_uri": "https://localhost:8080/"
        },
        "id": "aSNc06RRI1Su",
        "outputId": "12e061b3-d314-46ca-a304-014ef0c0ed5a"
      },
      "outputs": [
        {
          "output_type": "stream",
          "name": "stdout",
          "text": [
            "MinMaxScaler()\n",
            "[[0.65354331 0.70068027 0.40397351 ... 1.         1.         1.        ]\n",
            " [0.97637795 0.5170068  0.97350993 ... 1.         1.         1.        ]\n",
            " [0.48818898 0.55782313 0.39072848 ... 1.         1.         1.        ]\n",
            " ...\n",
            " [0.48818898 0.55782313 0.39072848 ... 1.         1.         1.        ]\n",
            " [0.48818898 0.55782313 0.39072848 ... 1.         1.         1.        ]\n",
            " [0.4015748  0.56462585 0.60927152 ... 1.         1.         1.        ]]\n"
          ]
        }
      ],
      "source": [
        "from sklearn.preprocessing import MinMaxScaler\n",
        "\n",
        "data = X_train\n",
        "scaler = MinMaxScaler()\n",
        "print(scaler.fit(data))\n",
        "\n",
        "print(scaler.transform(data))\n",
        "\n",
        "X_train = scaler.transform(data)\n",
        "\n",
        "X_test = scaler.transform(X_test)"
      ]
    },
    {
      "cell_type": "code",
      "execution_count": 17,
      "metadata": {
        "colab": {
          "base_uri": "https://localhost:8080/"
        },
        "id": "jq1n6yHoJM1p",
        "outputId": "e0507747-a3a6-4b5c-fc3c-c9ffb65f2e7b"
      },
      "outputs": [
        {
          "output_type": "stream",
          "name": "stdout",
          "text": [
            "MinMaxScaler()\n",
            "[[0.81818182]\n",
            " [0.54545455]\n",
            " [0.        ]\n",
            " ...\n",
            " [0.54545455]\n",
            " [0.        ]\n",
            " [0.54545455]]\n"
          ]
        }
      ],
      "source": [
        "from sklearn.preprocessing import MinMaxScaler\n",
        "\n",
        "data = Y_train\n",
        "scaler = MinMaxScaler()\n",
        "print(scaler.fit(data))\n",
        "\n",
        "print(scaler.transform(data))\n",
        "\n",
        "Y_train = scaler.transform(data)\n",
        "Y_test = scaler.transform(Y_test)"
      ]
    },
    {
      "cell_type": "code",
      "execution_count": 18,
      "metadata": {
        "id": "aG0I3Irg7bLQ"
      },
      "outputs": [],
      "source": [
        "from tensorflow.keras.utils import to_categorical\n",
        "Y_train = to_categorical(Y_train,num_classes=12)  # Assuming Y\n",
        "Y_test = to_categorical(Y_test,num_classes=12)  #"
      ]
    },
    {
      "cell_type": "markdown",
      "source": [
        "LSTM model"
      ],
      "metadata": {
        "id": "JbLEmxCu-Cpu"
      }
    },
    {
      "cell_type": "code",
      "execution_count": 19,
      "metadata": {
        "id": "bsViPLtpmeL-"
      },
      "outputs": [],
      "source": [
        "import numpy as np\n",
        "import tensorflow as tf\n",
        "from tensorflow.keras.models import Sequential\n",
        "from tensorflow.keras.layers import LSTM, Dense, Embedding"
      ]
    },
    {
      "cell_type": "code",
      "execution_count": 20,
      "metadata": {
        "id": "6fPMghV2ml5W"
      },
      "outputs": [],
      "source": [
        "vocab_size = 1000\n",
        "max_sequence_length = 595"
      ]
    },
    {
      "cell_type": "code",
      "execution_count": 21,
      "metadata": {
        "colab": {
          "base_uri": "https://localhost:8080/"
        },
        "id": "Djjcazo2mral",
        "outputId": "0269e4aa-40e7-486f-9c34-6f15b277714c"
      },
      "outputs": [
        {
          "output_type": "stream",
          "name": "stdout",
          "text": [
            "Model: \"sequential\"\n",
            "_________________________________________________________________\n",
            " Layer (type)                Output Shape              Param #   \n",
            "=================================================================\n",
            " embedding (Embedding)       (None, 595, 32)           32000     \n",
            "                                                                 \n",
            " lstm (LSTM)                 (None, 64)                24832     \n",
            "                                                                 \n",
            " dense (Dense)               (None, 12)                780       \n",
            "                                                                 \n",
            "=================================================================\n",
            "Total params: 57,612\n",
            "Trainable params: 57,612\n",
            "Non-trainable params: 0\n",
            "_________________________________________________________________\n"
          ]
        }
      ],
      "source": [
        "model = Sequential()\n",
        "model.add(Embedding(vocab_size, 32, input_length=max_sequence_length))\n",
        "model.add(LSTM(64))\n",
        "model.add(Dense(12, activation='softmax'))\n",
        "model.summary()\n",
        "\n",
        "# Compile the model\n",
        "model.compile(loss='categorical_crossentropy', optimizer='adam', metrics=['accuracy'])\n"
      ]
    },
    {
      "cell_type": "code",
      "execution_count": 22,
      "metadata": {
        "colab": {
          "base_uri": "https://localhost:8080/"
        },
        "id": "apwJdIqdmveb",
        "outputId": "843fa527-c79b-494e-afca-0182ba7bc1e6"
      },
      "outputs": [
        {
          "metadata": {
            "tags": null
          },
          "name": "stderr",
          "output_type": "stream",
          "text": [
            "\u001b[1;38;5;39mCOMET INFO:\u001b[0m Ignoring automatic log_parameter('verbose') because 'keras:verbose' is in COMET_LOGGING_PARAMETERS_IGNORE\n"
          ]
        },
        {
          "output_type": "stream",
          "name": "stdout",
          "text": [
            "Epoch 1/20\n",
            "216/216 [==============================] - 89s 394ms/step - loss: 0.1643 - accuracy: 0.9952 - val_loss: 0.0159 - val_accuracy: 0.9983\n",
            "Epoch 2/20\n",
            "216/216 [==============================] - 83s 385ms/step - loss: 0.0017 - accuracy: 0.9999 - val_loss: 0.0159 - val_accuracy: 0.9983\n",
            "Epoch 3/20\n",
            "216/216 [==============================] - 81s 375ms/step - loss: 0.0016 - accuracy: 0.9999 - val_loss: 0.0162 - val_accuracy: 0.9983\n",
            "Epoch 4/20\n",
            "216/216 [==============================] - 85s 394ms/step - loss: 0.0016 - accuracy: 0.9999 - val_loss: 0.0158 - val_accuracy: 0.9983\n",
            "Epoch 5/20\n",
            "216/216 [==============================] - 82s 378ms/step - loss: 0.0016 - accuracy: 0.9999 - val_loss: 0.0162 - val_accuracy: 0.9983\n",
            "Epoch 6/20\n",
            "216/216 [==============================] - 83s 384ms/step - loss: 0.0016 - accuracy: 0.9999 - val_loss: 0.0153 - val_accuracy: 0.9983\n",
            "Epoch 7/20\n",
            "216/216 [==============================] - 80s 370ms/step - loss: 0.0015 - accuracy: 0.9999 - val_loss: 0.0150 - val_accuracy: 0.9983\n",
            "Epoch 8/20\n",
            "216/216 [==============================] - 80s 369ms/step - loss: 0.0015 - accuracy: 0.9999 - val_loss: 0.0159 - val_accuracy: 0.9983\n",
            "Epoch 9/20\n",
            "216/216 [==============================] - 80s 371ms/step - loss: 0.0015 - accuracy: 0.9999 - val_loss: 0.0164 - val_accuracy: 0.9983\n",
            "Epoch 10/20\n",
            "216/216 [==============================] - 81s 375ms/step - loss: 0.0015 - accuracy: 0.9999 - val_loss: 0.0163 - val_accuracy: 0.9983\n",
            "Epoch 11/20\n",
            "216/216 [==============================] - 82s 380ms/step - loss: 0.0015 - accuracy: 0.9999 - val_loss: 0.0166 - val_accuracy: 0.9983\n",
            "Epoch 12/20\n",
            "216/216 [==============================] - 82s 378ms/step - loss: 0.0016 - accuracy: 0.9999 - val_loss: 0.0159 - val_accuracy: 0.9983\n",
            "Epoch 13/20\n",
            "216/216 [==============================] - 85s 395ms/step - loss: 0.0015 - accuracy: 0.9999 - val_loss: 0.0165 - val_accuracy: 0.9983\n",
            "Epoch 14/20\n",
            "216/216 [==============================] - 82s 378ms/step - loss: 0.0015 - accuracy: 0.9999 - val_loss: 0.0162 - val_accuracy: 0.9983\n",
            "Epoch 15/20\n",
            "216/216 [==============================] - 86s 397ms/step - loss: 0.0015 - accuracy: 0.9999 - val_loss: 0.0157 - val_accuracy: 0.9983\n",
            "Epoch 16/20\n",
            "216/216 [==============================] - 80s 373ms/step - loss: 0.0015 - accuracy: 0.9999 - val_loss: 0.0158 - val_accuracy: 0.9983\n",
            "Epoch 17/20\n",
            "216/216 [==============================] - 81s 376ms/step - loss: 0.0015 - accuracy: 0.9999 - val_loss: 0.0171 - val_accuracy: 0.9983\n",
            "Epoch 18/20\n",
            "216/216 [==============================] - 81s 376ms/step - loss: 0.0015 - accuracy: 0.9999 - val_loss: 0.0164 - val_accuracy: 0.9983\n",
            "Epoch 19/20\n",
            "216/216 [==============================] - 82s 377ms/step - loss: 0.0015 - accuracy: 0.9999 - val_loss: 0.0151 - val_accuracy: 0.9983\n",
            "Epoch 20/20\n",
            "216/216 [==============================] - 82s 381ms/step - loss: 0.0015 - accuracy: 0.9999 - val_loss: 0.0162 - val_accuracy: 0.9983\n"
          ]
        },
        {
          "output_type": "execute_result",
          "data": {
            "text/plain": [
              "<keras.callbacks.History at 0x7f2ede8bea40>"
            ]
          },
          "metadata": {},
          "execution_count": 22
        }
      ],
      "source": [
        "model.fit(X_train, Y_train, batch_size=32, epochs=20,validation_split=0.2)\n"
      ]
    },
    {
      "cell_type": "code",
      "source": [
        "# Save the model\n",
        "#model.save(\"E:\\\\NSBM\\\\Year 3\\\\Semester 1\\\\PUSL3119 Computing Project\\\\Projects\\\\Anti-Spy Application\\\\Ai algorithms\\\\Trained algorithms\\\\LSTM 3\")\n"
      ],
      "metadata": {
        "id": "DdkVczOIyilV"
      },
      "execution_count": 23,
      "outputs": []
    },
    {
      "cell_type": "code",
      "execution_count": 24,
      "metadata": {
        "colab": {
          "base_uri": "https://localhost:8080/"
        },
        "id": "7O_bjEeuJs9n",
        "outputId": "cdd423c7-fd70-41a8-caa3-e353887ce3d6"
      },
      "outputs": [
        {
          "output_type": "stream",
          "name": "stdout",
          "text": [
            "270/270 [==============================] - 24s 86ms/step - loss: 0.0055 - accuracy: 0.9994\n"
          ]
        }
      ],
      "source": [
        "score = model.evaluate(X_test, Y_test)"
      ]
    },
    {
      "cell_type": "code",
      "source": [
        "score"
      ],
      "metadata": {
        "id": "Uphj5HhA2tVj"
      },
      "execution_count": null,
      "outputs": []
    },
    {
      "cell_type": "code",
      "source": [],
      "metadata": {
        "id": "UpVafTlU97wa"
      },
      "execution_count": null,
      "outputs": []
    },
    {
      "cell_type": "markdown",
      "source": [
        "LSTM model advance"
      ],
      "metadata": {
        "id": "3g6ooC5I-50w"
      }
    },
    {
      "cell_type": "code",
      "source": [
        "from comet_ml import Experiment\n",
        "\n",
        "# Create an experiment with your api key\n",
        "experiment = Experiment(log_code=True,\n",
        "    api_key=\"KgERfs0s0QEiRrMhOJYwGn5pk\",\n",
        "    project_name=\"dynamic-malware-analysis\",\n",
        "    workspace=\"thevindus\",\n",
        ")"
      ],
      "metadata": {
        "colab": {
          "base_uri": "https://localhost:8080/"
        },
        "id": "Ug17YVTvQlii",
        "outputId": "8bdc71fe-f18f-4bf7-db93-d0cf61220a34"
      },
      "execution_count": 26,
      "outputs": [
        {
          "output_type": "stream",
          "name": "stderr",
          "text": [
            "\u001b[1;38;5;214mCOMET WARNING:\u001b[0m Couldn't retrieve Google Colab notebook content\n",
            "\u001b[1;38;5;39mCOMET INFO:\u001b[0m ---------------------------------------------------------------------------------------\n",
            "\u001b[1;38;5;39mCOMET INFO:\u001b[0m Comet.ml Experiment Summary\n",
            "\u001b[1;38;5;39mCOMET INFO:\u001b[0m ---------------------------------------------------------------------------------------\n",
            "\u001b[1;38;5;39mCOMET INFO:\u001b[0m   Data:\n",
            "\u001b[1;38;5;39mCOMET INFO:\u001b[0m     display_summary_level : 1\n",
            "\u001b[1;38;5;39mCOMET INFO:\u001b[0m     url                   : https://www.comet.com/thevindus/dynamic-malware-analysis/682fa5ead23c456aa11d9087fe2aecc0\n",
            "\u001b[1;38;5;39mCOMET INFO:\u001b[0m   Metrics [count] (min, max):\n",
            "\u001b[1;38;5;39mCOMET INFO:\u001b[0m     accuracy [20]                 : (0.9952236413955688, 0.9998552799224854)\n",
            "\u001b[1;38;5;39mCOMET INFO:\u001b[0m     batch_accuracy [440]          : (0.0, 1.0)\n",
            "\u001b[1;38;5;39mCOMET INFO:\u001b[0m     batch_loss [440]              : (5.8530044043436646e-05, 2.493279457092285)\n",
            "\u001b[1;38;5;39mCOMET INFO:\u001b[0m     epoch_duration [20]           : (79.71029320399998, 88.73222271899999)\n",
            "\u001b[1;38;5;39mCOMET INFO:\u001b[0m     loss [20]                     : (0.0014652252430096269, 0.16431495547294617)\n",
            "\u001b[1;38;5;39mCOMET INFO:\u001b[0m     val_accuracy                  : 0.9982638955116272\n",
            "\u001b[1;38;5;39mCOMET INFO:\u001b[0m     val_loss [20]                 : (0.014965754002332687, 0.017114905640482903)\n",
            "\u001b[1;38;5;39mCOMET INFO:\u001b[0m     validate_batch_accuracy [120] : (0.9971590638160706, 1.0)\n",
            "\u001b[1;38;5;39mCOMET INFO:\u001b[0m     validate_batch_loss [120]     : (5.8530044043436646e-05, 0.027968965470790863)\n",
            "\u001b[1;38;5;39mCOMET INFO:\u001b[0m   Others:\n",
            "\u001b[1;38;5;39mCOMET INFO:\u001b[0m     trainable_params : 57612\n",
            "\u001b[1;38;5;39mCOMET INFO:\u001b[0m   Parameters:\n",
            "\u001b[1;38;5;39mCOMET INFO:\u001b[0m     Adam_amsgrad                 : False\n",
            "\u001b[1;38;5;39mCOMET INFO:\u001b[0m     Adam_beta_1                  : 0.9\n",
            "\u001b[1;38;5;39mCOMET INFO:\u001b[0m     Adam_beta_2                  : 0.999\n",
            "\u001b[1;38;5;39mCOMET INFO:\u001b[0m     Adam_clipnorm                : 1\n",
            "\u001b[1;38;5;39mCOMET INFO:\u001b[0m     Adam_clipvalue               : 1\n",
            "\u001b[1;38;5;39mCOMET INFO:\u001b[0m     Adam_ema_momentum            : 0.99\n",
            "\u001b[1;38;5;39mCOMET INFO:\u001b[0m     Adam_ema_overwrite_frequency : 1\n",
            "\u001b[1;38;5;39mCOMET INFO:\u001b[0m     Adam_epsilon                 : 1e-07\n",
            "\u001b[1;38;5;39mCOMET INFO:\u001b[0m     Adam_global_clipnorm         : 1\n",
            "\u001b[1;38;5;39mCOMET INFO:\u001b[0m     Adam_is_legacy_optimizer     : False\n",
            "\u001b[1;38;5;39mCOMET INFO:\u001b[0m     Adam_jit_compile             : False\n",
            "\u001b[1;38;5;39mCOMET INFO:\u001b[0m     Adam_learning_rate           : 0.0010000000474974513\n",
            "\u001b[1;38;5;39mCOMET INFO:\u001b[0m     Adam_name                    : Adam\n",
            "\u001b[1;38;5;39mCOMET INFO:\u001b[0m     Adam_use_ema                 : False\n",
            "\u001b[1;38;5;39mCOMET INFO:\u001b[0m     Adam_weight_decay            : 1\n",
            "\u001b[1;38;5;39mCOMET INFO:\u001b[0m     clip                         : False\n",
            "\u001b[1;38;5;39mCOMET INFO:\u001b[0m     copy                         : True\n",
            "\u001b[1;38;5;39mCOMET INFO:\u001b[0m     epochs                       : 20\n",
            "\u001b[1;38;5;39mCOMET INFO:\u001b[0m     feature_range                : (0, 1)\n",
            "\u001b[1;38;5;39mCOMET INFO:\u001b[0m     steps                        : 216\n",
            "\u001b[1;38;5;39mCOMET INFO:\u001b[0m   Uploads:\n",
            "\u001b[1;38;5;39mCOMET INFO:\u001b[0m     environment details : 1\n",
            "\u001b[1;38;5;39mCOMET INFO:\u001b[0m     filename            : 1\n",
            "\u001b[1;38;5;39mCOMET INFO:\u001b[0m     installed packages  : 1\n",
            "\u001b[1;38;5;39mCOMET INFO:\u001b[0m     model graph         : 1\n",
            "\u001b[1;38;5;39mCOMET INFO:\u001b[0m     notebook            : 1\n",
            "\u001b[1;38;5;39mCOMET INFO:\u001b[0m     os packages         : 1\n",
            "\u001b[1;38;5;39mCOMET INFO:\u001b[0m     source_code         : 1\n",
            "\u001b[1;38;5;39mCOMET INFO:\u001b[0m \n",
            "\u001b[1;38;5;214mCOMET WARNING:\u001b[0m As you are running in a Jupyter environment, you will need to call `experiment.end()` when finished to ensure all metrics and code are logged before exiting.\n",
            "\u001b[1;38;5;39mCOMET INFO:\u001b[0m Couldn't find a Git repository in '/content' nor in any parent directory. Set `COMET_GIT_DIRECTORY` if your Git Repository is elsewhere.\n",
            "\u001b[1;38;5;39mCOMET INFO:\u001b[0m Experiment is live on comet.com https://www.comet.com/thevindus/dynamic-malware-analysis/585c0469ce6a4e38b78e56198a0cae93\n",
            "\n"
          ]
        }
      ]
    },
    {
      "cell_type": "code",
      "source": [
        "import numpy as np\n",
        "import tensorflow as tf\n",
        "from tensorflow.keras.models import Sequential\n",
        "from tensorflow.keras.layers import LSTM, Dense, Embedding,Dropout"
      ],
      "metadata": {
        "id": "gj73pKPU_sZf"
      },
      "execution_count": 27,
      "outputs": []
    },
    {
      "cell_type": "code",
      "source": [
        "vocab_size = 1000\n",
        "max_sequence_length = 595"
      ],
      "metadata": {
        "id": "3zb4gok2ADvO"
      },
      "execution_count": 28,
      "outputs": []
    },
    {
      "cell_type": "code",
      "source": [
        "model = Sequential()\n",
        "model.add(Embedding(vocab_size, 32, input_length=max_sequence_length))\n",
        "model.add(LSTM(64))\n",
        "model.add(Dropout(0.2))\n",
        "model.add(Dense(12, activation='softmax'))\n",
        "model.summary()\n",
        "\n",
        "# Compile the model\n",
        "model.compile(loss='categorical_crossentropy', optimizer='adam', metrics=['accuracy'])\n"
      ],
      "metadata": {
        "colab": {
          "base_uri": "https://localhost:8080/"
        },
        "id": "uu7a6OCnAesj",
        "outputId": "420c9cd3-8487-41b8-99d9-2d26bc010786"
      },
      "execution_count": 29,
      "outputs": [
        {
          "output_type": "stream",
          "name": "stdout",
          "text": [
            "Model: \"sequential_1\"\n",
            "_________________________________________________________________\n",
            " Layer (type)                Output Shape              Param #   \n",
            "=================================================================\n",
            " embedding_1 (Embedding)     (None, 595, 32)           32000     \n",
            "                                                                 \n",
            " lstm_1 (LSTM)               (None, 64)                24832     \n",
            "                                                                 \n",
            " dropout (Dropout)           (None, 64)                0         \n",
            "                                                                 \n",
            " dense_1 (Dense)             (None, 12)                780       \n",
            "                                                                 \n",
            "=================================================================\n",
            "Total params: 57,612\n",
            "Trainable params: 57,612\n",
            "Non-trainable params: 0\n",
            "_________________________________________________________________\n"
          ]
        }
      ]
    },
    {
      "cell_type": "code",
      "source": [
        "model.fit(X_train, Y_train, batch_size=32, epochs=20,validation_split=0.2)"
      ],
      "metadata": {
        "colab": {
          "base_uri": "https://localhost:8080/"
        },
        "id": "IXQKTvn7BTUe",
        "outputId": "d53eba36-70bc-4206-c004-a68d6728706a"
      },
      "execution_count": 30,
      "outputs": [
        {
          "output_type": "stream",
          "name": "stdout",
          "text": [
            "Epoch 1/20\n",
            "216/216 [==============================] - 84s 378ms/step - loss: 0.1829 - accuracy: 0.9849 - val_loss: 0.0169 - val_accuracy: 0.9983\n",
            "Epoch 2/20\n",
            "216/216 [==============================] - 81s 376ms/step - loss: 0.0021 - accuracy: 0.9999 - val_loss: 0.0175 - val_accuracy: 0.9983\n",
            "Epoch 3/20\n",
            "216/216 [==============================] - 80s 370ms/step - loss: 0.0018 - accuracy: 0.9999 - val_loss: 0.0176 - val_accuracy: 0.9983\n",
            "Epoch 4/20\n",
            "216/216 [==============================] - 83s 382ms/step - loss: 0.0017 - accuracy: 0.9999 - val_loss: 0.0175 - val_accuracy: 0.9983\n",
            "Epoch 5/20\n",
            "216/216 [==============================] - 81s 376ms/step - loss: 0.0019 - accuracy: 0.9999 - val_loss: 0.0174 - val_accuracy: 0.9983\n",
            "Epoch 6/20\n",
            "216/216 [==============================] - 83s 383ms/step - loss: 0.0018 - accuracy: 0.9999 - val_loss: 0.0169 - val_accuracy: 0.9983\n",
            "Epoch 7/20\n",
            "216/216 [==============================] - 80s 372ms/step - loss: 0.0017 - accuracy: 0.9999 - val_loss: 0.0180 - val_accuracy: 0.9983\n",
            "Epoch 8/20\n",
            "216/216 [==============================] - 81s 374ms/step - loss: 0.0015 - accuracy: 0.9999 - val_loss: 0.0165 - val_accuracy: 0.9983\n",
            "Epoch 9/20\n",
            "216/216 [==============================] - 81s 376ms/step - loss: 0.0014 - accuracy: 0.9999 - val_loss: 0.0172 - val_accuracy: 0.9983\n",
            "Epoch 10/20\n",
            "216/216 [==============================] - 80s 369ms/step - loss: 0.0018 - accuracy: 0.9999 - val_loss: 0.0171 - val_accuracy: 0.9983\n",
            "Epoch 11/20\n",
            "216/216 [==============================] - 81s 377ms/step - loss: 0.0015 - accuracy: 0.9999 - val_loss: 0.0171 - val_accuracy: 0.9983\n",
            "Epoch 12/20\n",
            "216/216 [==============================] - 83s 384ms/step - loss: 0.0015 - accuracy: 0.9999 - val_loss: 0.0172 - val_accuracy: 0.9983\n",
            "Epoch 13/20\n",
            "216/216 [==============================] - 82s 381ms/step - loss: 0.0018 - accuracy: 0.9999 - val_loss: 0.0162 - val_accuracy: 0.9983\n",
            "Epoch 14/20\n",
            "216/216 [==============================] - 81s 377ms/step - loss: 0.0017 - accuracy: 0.9999 - val_loss: 0.0168 - val_accuracy: 0.9983\n",
            "Epoch 15/20\n",
            "216/216 [==============================] - 82s 381ms/step - loss: 0.0017 - accuracy: 0.9999 - val_loss: 0.0159 - val_accuracy: 0.9983\n",
            "Epoch 16/20\n",
            "216/216 [==============================] - 81s 377ms/step - loss: 0.0017 - accuracy: 0.9999 - val_loss: 0.0164 - val_accuracy: 0.9983\n",
            "Epoch 17/20\n",
            "216/216 [==============================] - 82s 379ms/step - loss: 0.0018 - accuracy: 0.9999 - val_loss: 0.0162 - val_accuracy: 0.9983\n",
            "Epoch 18/20\n",
            "216/216 [==============================] - 81s 374ms/step - loss: 0.0016 - accuracy: 0.9999 - val_loss: 0.0159 - val_accuracy: 0.9983\n",
            "Epoch 19/20\n",
            "216/216 [==============================] - 83s 384ms/step - loss: 0.0018 - accuracy: 0.9999 - val_loss: 0.0151 - val_accuracy: 0.9983\n",
            "Epoch 20/20\n",
            "216/216 [==============================] - 82s 378ms/step - loss: 0.0019 - accuracy: 0.9999 - val_loss: 0.0165 - val_accuracy: 0.9983\n"
          ]
        },
        {
          "output_type": "execute_result",
          "data": {
            "text/plain": [
              "<keras.callbacks.History at 0x7f2ebf43eaa0>"
            ]
          },
          "metadata": {},
          "execution_count": 30
        }
      ]
    },
    {
      "cell_type": "code",
      "source": [
        "score = model.evaluate(X_test, Y_test)"
      ],
      "metadata": {
        "id": "9M60LitdJK-z",
        "colab": {
          "base_uri": "https://localhost:8080/"
        },
        "outputId": "3d69f294-17d8-4bb7-b7ba-8b6caa46e136"
      },
      "execution_count": 31,
      "outputs": [
        {
          "output_type": "stream",
          "name": "stdout",
          "text": [
            "270/270 [==============================] - 23s 84ms/step - loss: 0.0056 - accuracy: 0.9994\n"
          ]
        }
      ]
    },
    {
      "cell_type": "code",
      "source": [
        "score"
      ],
      "metadata": {
        "id": "dMExAe8IJNu-"
      },
      "execution_count": null,
      "outputs": []
    },
    {
      "cell_type": "markdown",
      "source": [
        "MLP model"
      ],
      "metadata": {
        "id": "sSHndJ7tJSPF"
      }
    },
    {
      "cell_type": "code",
      "source": [
        "from comet_ml import Experiment\n",
        "\n",
        "# Create an experiment with your api key\n",
        "experiment = Experiment(log_code=True,\n",
        "    api_key=\"KgERfs0s0QEiRrMhOJYwGn5pk\",\n",
        "    project_name=\"dynamic-malware-analysis\",\n",
        "    workspace=\"thevindus\",\n",
        ")"
      ],
      "metadata": {
        "id": "syUK3ZyLQvlb",
        "colab": {
          "base_uri": "https://localhost:8080/"
        },
        "outputId": "d100524e-22fb-47b3-a079-851bad8ec8ed"
      },
      "execution_count": 33,
      "outputs": [
        {
          "output_type": "stream",
          "name": "stderr",
          "text": [
            "\u001b[1;38;5;214mCOMET WARNING:\u001b[0m Couldn't retrieve Google Colab notebook content\n",
            "\u001b[1;38;5;39mCOMET INFO:\u001b[0m ---------------------------------------------------------------------------------------\n",
            "\u001b[1;38;5;39mCOMET INFO:\u001b[0m Comet.ml Experiment Summary\n",
            "\u001b[1;38;5;39mCOMET INFO:\u001b[0m ---------------------------------------------------------------------------------------\n",
            "\u001b[1;38;5;39mCOMET INFO:\u001b[0m   Data:\n",
            "\u001b[1;38;5;39mCOMET INFO:\u001b[0m     display_summary_level : 1\n",
            "\u001b[1;38;5;39mCOMET INFO:\u001b[0m     url                   : https://www.comet.com/thevindus/dynamic-malware-analysis/585c0469ce6a4e38b78e56198a0cae93\n",
            "\u001b[1;38;5;39mCOMET INFO:\u001b[0m   Metrics [count] (min, max):\n",
            "\u001b[1;38;5;39mCOMET INFO:\u001b[0m     accuracy [20]                 : (0.984947144985199, 0.9998552799224854)\n",
            "\u001b[1;38;5;39mCOMET INFO:\u001b[0m     batch_accuracy [440]          : (0.0, 1.0)\n",
            "\u001b[1;38;5;39mCOMET INFO:\u001b[0m     batch_loss [440]              : (9.113082342082635e-05, 2.499173402786255)\n",
            "\u001b[1;38;5;39mCOMET INFO:\u001b[0m     epoch_duration [20]           : (79.91336319999982, 83.90927074200022)\n",
            "\u001b[1;38;5;39mCOMET INFO:\u001b[0m     loss [20]                     : (0.0014165266184136271, 0.18292038142681122)\n",
            "\u001b[1;38;5;39mCOMET INFO:\u001b[0m     val_accuracy                  : 0.9982638955116272\n",
            "\u001b[1;38;5;39mCOMET INFO:\u001b[0m     val_loss [20]                 : (0.015138830989599228, 0.017971444875001907)\n",
            "\u001b[1;38;5;39mCOMET INFO:\u001b[0m     validate_batch_accuracy [120] : (0.9971590638160706, 1.0)\n",
            "\u001b[1;38;5;39mCOMET INFO:\u001b[0m     validate_batch_loss [120]     : (6.592056161025539e-05, 0.02936556749045849)\n",
            "\u001b[1;38;5;39mCOMET INFO:\u001b[0m   Others:\n",
            "\u001b[1;38;5;39mCOMET INFO:\u001b[0m     trainable_params : 57612\n",
            "\u001b[1;38;5;39mCOMET INFO:\u001b[0m   Parameters:\n",
            "\u001b[1;38;5;39mCOMET INFO:\u001b[0m     Adam_amsgrad                 : False\n",
            "\u001b[1;38;5;39mCOMET INFO:\u001b[0m     Adam_beta_1                  : 0.9\n",
            "\u001b[1;38;5;39mCOMET INFO:\u001b[0m     Adam_beta_2                  : 0.999\n",
            "\u001b[1;38;5;39mCOMET INFO:\u001b[0m     Adam_clipnorm                : 1\n",
            "\u001b[1;38;5;39mCOMET INFO:\u001b[0m     Adam_clipvalue               : 1\n",
            "\u001b[1;38;5;39mCOMET INFO:\u001b[0m     Adam_ema_momentum            : 0.99\n",
            "\u001b[1;38;5;39mCOMET INFO:\u001b[0m     Adam_ema_overwrite_frequency : 1\n",
            "\u001b[1;38;5;39mCOMET INFO:\u001b[0m     Adam_epsilon                 : 1e-07\n",
            "\u001b[1;38;5;39mCOMET INFO:\u001b[0m     Adam_global_clipnorm         : 1\n",
            "\u001b[1;38;5;39mCOMET INFO:\u001b[0m     Adam_is_legacy_optimizer     : False\n",
            "\u001b[1;38;5;39mCOMET INFO:\u001b[0m     Adam_jit_compile             : False\n",
            "\u001b[1;38;5;39mCOMET INFO:\u001b[0m     Adam_learning_rate           : 0.0010000000474974513\n",
            "\u001b[1;38;5;39mCOMET INFO:\u001b[0m     Adam_name                    : Adam\n",
            "\u001b[1;38;5;39mCOMET INFO:\u001b[0m     Adam_use_ema                 : False\n",
            "\u001b[1;38;5;39mCOMET INFO:\u001b[0m     Adam_weight_decay            : 1\n",
            "\u001b[1;38;5;39mCOMET INFO:\u001b[0m     epochs                       : 20\n",
            "\u001b[1;38;5;39mCOMET INFO:\u001b[0m     steps                        : 216\n",
            "\u001b[1;38;5;39mCOMET INFO:\u001b[0m   Uploads:\n",
            "\u001b[1;38;5;39mCOMET INFO:\u001b[0m     environment details : 1\n",
            "\u001b[1;38;5;39mCOMET INFO:\u001b[0m     filename            : 1\n",
            "\u001b[1;38;5;39mCOMET INFO:\u001b[0m     installed packages  : 1\n",
            "\u001b[1;38;5;39mCOMET INFO:\u001b[0m     model graph         : 1\n",
            "\u001b[1;38;5;39mCOMET INFO:\u001b[0m     notebook            : 1\n",
            "\u001b[1;38;5;39mCOMET INFO:\u001b[0m     os packages         : 1\n",
            "\u001b[1;38;5;39mCOMET INFO:\u001b[0m     source_code         : 1\n",
            "\u001b[1;38;5;39mCOMET INFO:\u001b[0m \n",
            "\u001b[1;38;5;214mCOMET WARNING:\u001b[0m As you are running in a Jupyter environment, you will need to call `experiment.end()` when finished to ensure all metrics and code are logged before exiting.\n",
            "\u001b[1;38;5;39mCOMET INFO:\u001b[0m Couldn't find a Git repository in '/content' nor in any parent directory. Set `COMET_GIT_DIRECTORY` if your Git Repository is elsewhere.\n",
            "\u001b[1;38;5;39mCOMET INFO:\u001b[0m Experiment is live on comet.com https://www.comet.com/thevindus/dynamic-malware-analysis/c9efa87656544dd9a7b76b14836a5cca\n",
            "\n"
          ]
        }
      ]
    },
    {
      "cell_type": "code",
      "source": [
        "import tensorflow as tf\n",
        "from tensorflow.keras.models import Sequential\n",
        "from tensorflow.keras.layers import Embedding, Flatten, Dense\n",
        "\n",
        "# Assuming you have your training data ready: x_train (sequences) and y_train (labels)\n",
        "\n",
        "vocab_size = 1000  # Change this value to the actual size of your vocabulary\n",
        "max_sequence_length = 595 # Change this value to the actual maximum sequence length\n",
        "\n",
        "model_mlp = Sequential()\n",
        "model_mlp.add(Embedding(vocab_size, 32, input_length=max_sequence_length))\n",
        "model_mlp.add(Flatten())\n",
        "model_mlp.add(Dense(128, activation='relu'))\n",
        "model_mlp.add(Dense(12, activation='softmax'))\n",
        "\n",
        "model_mlp.compile(loss='categorical_crossentropy', optimizer='adam', metrics=['accuracy'])\n",
        "\n",
        "model_mlp.fit(X_train, Y_train, epochs=20, batch_size=32)\n",
        "\n",
        "score = model_mlp.evaluate(X_test, Y_test)\n",
        "score\n"
      ],
      "metadata": {
        "id": "JSkcSUX9Jb2X",
        "colab": {
          "base_uri": "https://localhost:8080/"
        },
        "outputId": "c99c1e33-4532-4e0f-c779-b8a7774bbbe5"
      },
      "execution_count": 35,
      "outputs": [
        {
          "output_type": "stream",
          "name": "stdout",
          "text": [
            "Epoch 1/20\n",
            "270/270 [==============================] - 12s 41ms/step - loss: 0.0206 - accuracy: 0.9958\n",
            "Epoch 2/20\n",
            "270/270 [==============================] - 11s 40ms/step - loss: 0.0060 - accuracy: 0.9995\n",
            "Epoch 3/20\n",
            "270/270 [==============================] - 9s 33ms/step - loss: 0.0046 - accuracy: 0.9995\n",
            "Epoch 4/20\n",
            "270/270 [==============================] - 11s 40ms/step - loss: 0.0052 - accuracy: 0.9995\n",
            "Epoch 5/20\n",
            "270/270 [==============================] - 11s 40ms/step - loss: 0.0053 - accuracy: 0.9995\n",
            "Epoch 6/20\n",
            "270/270 [==============================] - 9s 33ms/step - loss: 0.0050 - accuracy: 0.9995\n",
            "Epoch 7/20\n",
            "270/270 [==============================] - 11s 40ms/step - loss: 0.0049 - accuracy: 0.9995\n",
            "Epoch 8/20\n",
            "270/270 [==============================] - 11s 40ms/step - loss: 0.0065 - accuracy: 0.9995\n",
            "Epoch 9/20\n",
            "270/270 [==============================] - 10s 35ms/step - loss: 0.0063 - accuracy: 0.9995\n",
            "Epoch 10/20\n",
            "270/270 [==============================] - 11s 39ms/step - loss: 0.0050 - accuracy: 0.9995\n",
            "Epoch 11/20\n",
            "270/270 [==============================] - 11s 41ms/step - loss: 0.0046 - accuracy: 0.9995\n",
            "Epoch 12/20\n",
            "270/270 [==============================] - 10s 37ms/step - loss: 0.0049 - accuracy: 0.9995\n",
            "Epoch 13/20\n",
            "270/270 [==============================] - 10s 37ms/step - loss: 0.0039 - accuracy: 0.9995\n",
            "Epoch 14/20\n",
            "270/270 [==============================] - 11s 41ms/step - loss: 0.0047 - accuracy: 0.9995\n",
            "Epoch 15/20\n",
            "270/270 [==============================] - 10s 37ms/step - loss: 0.0044 - accuracy: 0.9995\n",
            "Epoch 16/20\n",
            "270/270 [==============================] - 10s 36ms/step - loss: 0.0046 - accuracy: 0.9995\n",
            "Epoch 17/20\n",
            "270/270 [==============================] - 11s 41ms/step - loss: 0.0051 - accuracy: 0.9995\n",
            "Epoch 18/20\n",
            "270/270 [==============================] - 11s 41ms/step - loss: 0.0048 - accuracy: 0.9995\n",
            "Epoch 19/20\n",
            "270/270 [==============================] - 9s 34ms/step - loss: 0.0042 - accuracy: 0.9995\n",
            "Epoch 20/20\n",
            "270/270 [==============================] - 11s 41ms/step - loss: 0.0042 - accuracy: 0.9995\n",
            "270/270 [==============================] - 2s 5ms/step - loss: 0.0064 - accuracy: 0.9994\n"
          ]
        },
        {
          "output_type": "execute_result",
          "data": {
            "text/plain": [
              "[0.0064275553449988365, 0.9994211792945862]"
            ]
          },
          "metadata": {},
          "execution_count": 35
        }
      ]
    },
    {
      "cell_type": "markdown",
      "source": [
        "GRU model"
      ],
      "metadata": {
        "id": "eyIuLvcnMo17"
      }
    },
    {
      "cell_type": "code",
      "source": [
        "from comet_ml import Experiment\n",
        "\n",
        "# Create an experiment with your api key\n",
        "experiment = Experiment(log_code=True,\n",
        "    api_key=\"KgERfs0s0QEiRrMhOJYwGn5pk\",\n",
        "    project_name=\"dynamic-malware-analysis\",\n",
        "    workspace=\"thevindus\",\n",
        ")"
      ],
      "metadata": {
        "id": "2k4MbDhbQ3HX",
        "colab": {
          "base_uri": "https://localhost:8080/"
        },
        "outputId": "900efc65-1674-422f-c8a3-4ae967fa651b"
      },
      "execution_count": 36,
      "outputs": [
        {
          "output_type": "stream",
          "name": "stderr",
          "text": [
            "\u001b[1;38;5;39mCOMET INFO:\u001b[0m ---------------------------------------------------------------------------------------\n",
            "\u001b[1;38;5;39mCOMET INFO:\u001b[0m Comet.ml Experiment Summary\n",
            "\u001b[1;38;5;39mCOMET INFO:\u001b[0m ---------------------------------------------------------------------------------------\n",
            "\u001b[1;38;5;39mCOMET INFO:\u001b[0m   Data:\n",
            "\u001b[1;38;5;39mCOMET INFO:\u001b[0m     display_summary_level : 1\n",
            "\u001b[1;38;5;39mCOMET INFO:\u001b[0m     url                   : https://www.comet.com/thevindus/dynamic-malware-analysis/c9efa87656544dd9a7b76b14836a5cca\n",
            "\u001b[1;38;5;39mCOMET INFO:\u001b[0m   Metrics [count] (min, max):\n",
            "\u001b[1;38;5;39mCOMET INFO:\u001b[0m     accuracy [20]        : (0.9958319067955017, 0.9995368719100952)\n",
            "\u001b[1;38;5;39mCOMET INFO:\u001b[0m     batch_accuracy [540] : (0.0, 1.0)\n",
            "\u001b[1;38;5;39mCOMET INFO:\u001b[0m     batch_loss [540]     : (2.602082986413734e-06, 2.529268741607666)\n",
            "\u001b[1;38;5;39mCOMET INFO:\u001b[0m     epoch_duration [20]  : (8.802445921000071, 11.756489011999747)\n",
            "\u001b[1;38;5;39mCOMET INFO:\u001b[0m     loss [20]            : (0.003900384297594428, 0.020619940012693405)\n",
            "\u001b[1;38;5;39mCOMET INFO:\u001b[0m   Others:\n",
            "\u001b[1;38;5;39mCOMET INFO:\u001b[0m     trainable_params : 2470796\n",
            "\u001b[1;38;5;39mCOMET INFO:\u001b[0m   Parameters:\n",
            "\u001b[1;38;5;39mCOMET INFO:\u001b[0m     Adam_amsgrad                 : False\n",
            "\u001b[1;38;5;39mCOMET INFO:\u001b[0m     Adam_beta_1                  : 0.9\n",
            "\u001b[1;38;5;39mCOMET INFO:\u001b[0m     Adam_beta_2                  : 0.999\n",
            "\u001b[1;38;5;39mCOMET INFO:\u001b[0m     Adam_clipnorm                : 1\n",
            "\u001b[1;38;5;39mCOMET INFO:\u001b[0m     Adam_clipvalue               : 1\n",
            "\u001b[1;38;5;39mCOMET INFO:\u001b[0m     Adam_ema_momentum            : 0.99\n",
            "\u001b[1;38;5;39mCOMET INFO:\u001b[0m     Adam_ema_overwrite_frequency : 1\n",
            "\u001b[1;38;5;39mCOMET INFO:\u001b[0m     Adam_epsilon                 : 1e-07\n",
            "\u001b[1;38;5;39mCOMET INFO:\u001b[0m     Adam_global_clipnorm         : 1\n",
            "\u001b[1;38;5;39mCOMET INFO:\u001b[0m     Adam_is_legacy_optimizer     : False\n",
            "\u001b[1;38;5;39mCOMET INFO:\u001b[0m     Adam_jit_compile             : False\n",
            "\u001b[1;38;5;39mCOMET INFO:\u001b[0m     Adam_learning_rate           : 0.0010000000474974513\n",
            "\u001b[1;38;5;39mCOMET INFO:\u001b[0m     Adam_name                    : Adam\n",
            "\u001b[1;38;5;39mCOMET INFO:\u001b[0m     Adam_use_ema                 : False\n",
            "\u001b[1;38;5;39mCOMET INFO:\u001b[0m     Adam_weight_decay            : 1\n",
            "\u001b[1;38;5;39mCOMET INFO:\u001b[0m     epochs                       : 20\n",
            "\u001b[1;38;5;39mCOMET INFO:\u001b[0m     steps                        : 270\n",
            "\u001b[1;38;5;39mCOMET INFO:\u001b[0m   Uploads:\n",
            "\u001b[1;38;5;39mCOMET INFO:\u001b[0m     environment details : 1\n",
            "\u001b[1;38;5;39mCOMET INFO:\u001b[0m     filename            : 1\n",
            "\u001b[1;38;5;39mCOMET INFO:\u001b[0m     installed packages  : 1\n",
            "\u001b[1;38;5;39mCOMET INFO:\u001b[0m     model graph         : 1\n",
            "\u001b[1;38;5;39mCOMET INFO:\u001b[0m     notebook            : 2\n",
            "\u001b[1;38;5;39mCOMET INFO:\u001b[0m     os packages         : 1\n",
            "\u001b[1;38;5;39mCOMET INFO:\u001b[0m     source_code         : 1\n",
            "\u001b[1;38;5;39mCOMET INFO:\u001b[0m \n",
            "\u001b[1;38;5;214mCOMET WARNING:\u001b[0m As you are running in a Jupyter environment, you will need to call `experiment.end()` when finished to ensure all metrics and code are logged before exiting.\n",
            "\u001b[1;38;5;39mCOMET INFO:\u001b[0m Couldn't find a Git repository in '/content' nor in any parent directory. Set `COMET_GIT_DIRECTORY` if your Git Repository is elsewhere.\n",
            "\u001b[1;38;5;39mCOMET INFO:\u001b[0m Experiment is live on comet.com https://www.comet.com/thevindus/dynamic-malware-analysis/fe8aad00f56a45a483431134e6e192aa\n",
            "\n"
          ]
        }
      ]
    },
    {
      "cell_type": "code",
      "source": [
        "from tensorflow.keras.models import Sequential\n",
        "from tensorflow.keras.layers import Embedding, GRU, Dense\n",
        "\n",
        "# Assuming you have your preprocessed data ready: x_train, y_train, x_test, y_test\n",
        "\n",
        "vocab_size = 1000  # Replace this with the actual size of your vocabulary\n",
        "max_sequence_length = 595  # Replace this with the actual maximum sequence length\n",
        "\n",
        "gru_model = Sequential()\n",
        "gru_model.add(Embedding(vocab_size, 32, input_length=max_sequence_length))\n",
        "gru_model.add(GRU(64))  # You can adjust the number of GRU units as needed\n",
        "gru_model.add(Dense(64, activation='relu'))\n",
        "gru_model.add(Dense(12, activation='softmax'))  # Assuming you have 11 classes for malware categorization\n",
        "\n",
        "\n",
        "\n",
        "# Train the GRU model\n",
        "gru_model.compile(loss='categorical_crossentropy', optimizer='adam', metrics=['accuracy'])\n",
        "\n",
        "gru_model.fit(X_train, Y_train, epochs=20, batch_size=32)\n",
        "\n",
        "score = model_mlp.evaluate(X_test, Y_test)\n",
        "score\n",
        "\n"
      ],
      "metadata": {
        "id": "AHEtn6mtPfdH",
        "colab": {
          "base_uri": "https://localhost:8080/"
        },
        "outputId": "b27656ad-72aa-4d70-e16f-f54c2b630230"
      },
      "execution_count": 37,
      "outputs": [
        {
          "output_type": "stream",
          "name": "stdout",
          "text": [
            "Epoch 1/20\n",
            "270/270 [==============================] - 94s 332ms/step - loss: 0.1878 - accuracy: 0.9921\n",
            "Epoch 2/20\n",
            "270/270 [==============================] - 90s 332ms/step - loss: 0.0060 - accuracy: 0.9995\n",
            "Epoch 3/20\n",
            "270/270 [==============================] - 92s 339ms/step - loss: 0.0047 - accuracy: 0.9995\n",
            "Epoch 4/20\n",
            "270/270 [==============================] - 87s 322ms/step - loss: 0.0044 - accuracy: 0.9995\n",
            "Epoch 5/20\n",
            "270/270 [==============================] - 87s 322ms/step - loss: 0.0044 - accuracy: 0.9995\n",
            "Epoch 6/20\n",
            "270/270 [==============================] - 90s 332ms/step - loss: 0.0043 - accuracy: 0.9995\n",
            "Epoch 7/20\n",
            "270/270 [==============================] - 90s 332ms/step - loss: 0.0043 - accuracy: 0.9995\n",
            "Epoch 8/20\n",
            "270/270 [==============================] - 93s 346ms/step - loss: 0.0041 - accuracy: 0.9995\n",
            "Epoch 9/20\n",
            "270/270 [==============================] - 90s 334ms/step - loss: 0.0044 - accuracy: 0.9995\n",
            "Epoch 10/20\n",
            "270/270 [==============================] - 91s 338ms/step - loss: 0.0043 - accuracy: 0.9995\n",
            "Epoch 11/20\n",
            "270/270 [==============================] - 89s 329ms/step - loss: 0.0049 - accuracy: 0.9995\n",
            "Epoch 12/20\n",
            "270/270 [==============================] - 89s 330ms/step - loss: 0.0043 - accuracy: 0.9995\n",
            "Epoch 13/20\n",
            "270/270 [==============================] - 89s 330ms/step - loss: 0.0042 - accuracy: 0.9995\n",
            "Epoch 14/20\n",
            "270/270 [==============================] - 88s 328ms/step - loss: 0.0041 - accuracy: 0.9995\n",
            "Epoch 15/20\n",
            "270/270 [==============================] - 90s 332ms/step - loss: 0.0043 - accuracy: 0.9995\n",
            "Epoch 16/20\n",
            "270/270 [==============================] - 89s 328ms/step - loss: 0.0043 - accuracy: 0.9995\n",
            "Epoch 17/20\n",
            "270/270 [==============================] - 88s 328ms/step - loss: 0.0040 - accuracy: 0.9995\n",
            "Epoch 18/20\n",
            "270/270 [==============================] - 90s 334ms/step - loss: 0.0044 - accuracy: 0.9995\n",
            "Epoch 19/20\n",
            "270/270 [==============================] - 88s 325ms/step - loss: 0.0043 - accuracy: 0.9995\n",
            "Epoch 20/20\n",
            "270/270 [==============================] - 87s 322ms/step - loss: 0.0044 - accuracy: 0.9995\n",
            "270/270 [==============================] - 2s 6ms/step - loss: 0.0064 - accuracy: 0.9994\n"
          ]
        },
        {
          "output_type": "execute_result",
          "data": {
            "text/plain": [
              "[0.0064275553449988365, 0.9994211792945862]"
            ]
          },
          "metadata": {},
          "execution_count": 37
        }
      ]
    }
  ],
  "metadata": {
    "colab": {
      "provenance": [],
      "include_colab_link": true
    },
    "kernelspec": {
      "display_name": "Python 3 (ipykernel)",
      "language": "python",
      "name": "python3"
    },
    "language_info": {
      "codemirror_mode": {
        "name": "ipython",
        "version": 3
      },
      "file_extension": ".py",
      "mimetype": "text/x-python",
      "name": "python",
      "nbconvert_exporter": "python",
      "pygments_lexer": "ipython3",
      "version": "3.10.9"
    }
  },
  "nbformat": 4,
  "nbformat_minor": 0
}